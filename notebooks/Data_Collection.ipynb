{
 "cells": [
  {
   "cell_type": "code",
   "execution_count": 2,
   "id": "3b44d706",
   "metadata": {},
   "outputs": [
    {
     "name": "stdout",
     "output_type": "stream",
     "text": [
      "Requirement already satisfied: beautifulsoup4==4.12.3 in ./venv/lib/python3.12/site-packages (from -r requirements.txt (line 1)) (4.12.3)\n",
      "Requirement already satisfied: certifi==2024.8.30 in ./venv/lib/python3.12/site-packages (from -r requirements.txt (line 2)) (2024.8.30)\n",
      "Requirement already satisfied: charset-normalizer==3.4.0 in ./venv/lib/python3.12/site-packages (from -r requirements.txt (line 3)) (3.4.0)\n",
      "Requirement already satisfied: contourpy==1.3.0 in ./venv/lib/python3.12/site-packages (from -r requirements.txt (line 4)) (1.3.0)\n",
      "Requirement already satisfied: cycler==0.12.1 in ./venv/lib/python3.12/site-packages (from -r requirements.txt (line 5)) (0.12.1)\n",
      "Requirement already satisfied: fonttools==4.54.1 in ./venv/lib/python3.12/site-packages (from -r requirements.txt (line 6)) (4.54.1)\n",
      "Requirement already satisfied: fredapi==0.5.2 in ./venv/lib/python3.12/site-packages (from -r requirements.txt (line 7)) (0.5.2)\n",
      "Requirement already satisfied: frozendict==2.4.6 in ./venv/lib/python3.12/site-packages (from -r requirements.txt (line 8)) (2.4.6)\n",
      "Requirement already satisfied: html5lib==1.1 in ./venv/lib/python3.12/site-packages (from -r requirements.txt (line 9)) (1.1)\n",
      "Requirement already satisfied: idna==3.10 in ./venv/lib/python3.12/site-packages (from -r requirements.txt (line 10)) (3.10)\n",
      "Requirement already satisfied: kiwisolver==1.4.7 in ./venv/lib/python3.12/site-packages (from -r requirements.txt (line 11)) (1.4.7)\n",
      "Requirement already satisfied: lxml==5.3.0 in ./venv/lib/python3.12/site-packages (from -r requirements.txt (line 12)) (5.3.0)\n",
      "Requirement already satisfied: matplotlib==3.9.2 in ./venv/lib/python3.12/site-packages (from -r requirements.txt (line 13)) (3.9.2)\n",
      "Requirement already satisfied: multitasking==0.0.11 in ./venv/lib/python3.12/site-packages (from -r requirements.txt (line 14)) (0.0.11)\n",
      "Requirement already satisfied: numpy==2.1.2 in ./venv/lib/python3.12/site-packages (from -r requirements.txt (line 15)) (2.1.2)\n",
      "Requirement already satisfied: packaging==24.1 in ./venv/lib/python3.12/site-packages (from -r requirements.txt (line 16)) (24.1)\n",
      "Requirement already satisfied: pandas==2.2.3 in ./venv/lib/python3.12/site-packages (from -r requirements.txt (line 17)) (2.2.3)\n",
      "Requirement already satisfied: peewee==3.17.7 in ./venv/lib/python3.12/site-packages (from -r requirements.txt (line 18)) (3.17.7)\n",
      "Requirement already satisfied: pillow==11.0.0 in ./venv/lib/python3.12/site-packages (from -r requirements.txt (line 19)) (11.0.0)\n",
      "Requirement already satisfied: platformdirs==4.3.6 in ./venv/lib/python3.12/site-packages (from -r requirements.txt (line 20)) (4.3.6)\n",
      "Requirement already satisfied: pyparsing==3.2.0 in ./venv/lib/python3.12/site-packages (from -r requirements.txt (line 21)) (3.2.0)\n",
      "Requirement already satisfied: python-dateutil==2.9.0.post0 in ./venv/lib/python3.12/site-packages (from -r requirements.txt (line 22)) (2.9.0.post0)\n",
      "Requirement already satisfied: pytz==2024.2 in ./venv/lib/python3.12/site-packages (from -r requirements.txt (line 23)) (2024.2)\n",
      "Requirement already satisfied: requests==2.32.3 in ./venv/lib/python3.12/site-packages (from -r requirements.txt (line 24)) (2.32.3)\n",
      "Requirement already satisfied: six==1.16.0 in ./venv/lib/python3.12/site-packages (from -r requirements.txt (line 25)) (1.16.0)\n",
      "Requirement already satisfied: soupsieve==2.6 in ./venv/lib/python3.12/site-packages (from -r requirements.txt (line 26)) (2.6)\n",
      "Requirement already satisfied: tzdata==2024.2 in ./venv/lib/python3.12/site-packages (from -r requirements.txt (line 27)) (2024.2)\n",
      "Requirement already satisfied: urllib3==2.2.3 in ./venv/lib/python3.12/site-packages (from -r requirements.txt (line 28)) (2.2.3)\n",
      "Requirement already satisfied: webencodings==0.5.1 in ./venv/lib/python3.12/site-packages (from -r requirements.txt (line 29)) (0.5.1)\n",
      "Requirement already satisfied: yfinance==0.2.48 in ./venv/lib/python3.12/site-packages (from -r requirements.txt (line 30)) (0.2.48)\n"
     ]
    }
   ],
   "source": [
    "# Install packages from requirements.txt\n",
    "!pip install -r requirements.txt\n"
   ]
  },
  {
   "cell_type": "code",
   "execution_count": 1,
   "id": "fd301933",
   "metadata": {},
   "outputs": [
    {
     "name": "stdout",
     "output_type": "stream",
     "text": [
      "Current Directory: /home/manormanore/Documents/Git Hub/StockPricePrediction\n"
     ]
    }
   ],
   "source": [
    "import os\n",
    "import yfinance as yf\n",
    "import pandas as pd\n",
    "\n",
    "# Replace with your os path\n",
    "new_directory = \"/home/manormanore/Documents/Git Hub/StockPricePrediction\"\n",
    "os.chdir(new_directory)\n",
    "print(\"Current Directory:\", os.getcwd())\n"
   ]
  },
  {
   "cell_type": "markdown",
   "id": "5a893d63",
   "metadata": {},
   "source": [
    "### 1. Loading yfinance data"
   ]
  },
  {
   "cell_type": "code",
   "execution_count": 3,
   "id": "0945c6c3",
   "metadata": {},
   "outputs": [
    {
     "name": "stdout",
     "output_type": "stream",
     "text": [
      "Fetching stock data for AAPL\n",
      "                                 Open        High         Low       Close  \\\n",
      "Date                                                                        \n",
      "1980-12-12 00:00:00-05:00    0.098943    0.099373    0.098943    0.098943   \n",
      "1980-12-15 00:00:00-05:00    0.094211    0.094211    0.093781    0.093781   \n",
      "1980-12-16 00:00:00-05:00    0.087328    0.087328    0.086898    0.086898   \n",
      "1980-12-17 00:00:00-05:00    0.089049    0.089479    0.089049    0.089049   \n",
      "1980-12-18 00:00:00-05:00    0.091630    0.092061    0.091630    0.091630   \n",
      "...                               ...         ...         ...         ...   \n",
      "2024-10-23 00:00:00-04:00  234.080002  235.139999  227.759995  230.759995   \n",
      "2024-10-24 00:00:00-04:00  229.979996  230.820007  228.410004  230.570007   \n",
      "2024-10-25 00:00:00-04:00  229.740005  233.220001  229.570007  231.410004   \n",
      "2024-10-28 00:00:00-04:00  233.320007  234.729996  232.550003  233.399994   \n",
      "2024-10-29 00:00:00-04:00  233.195007  234.320007  232.320007  233.669998   \n",
      "\n",
      "                              Volume  Dividends  Stock Splits  \n",
      "Date                                                           \n",
      "1980-12-12 00:00:00-05:00  469033600        0.0           0.0  \n",
      "1980-12-15 00:00:00-05:00  175884800        0.0           0.0  \n",
      "1980-12-16 00:00:00-05:00  105728000        0.0           0.0  \n",
      "1980-12-17 00:00:00-05:00   86441600        0.0           0.0  \n",
      "1980-12-18 00:00:00-05:00   73449600        0.0           0.0  \n",
      "...                              ...        ...           ...  \n",
      "2024-10-23 00:00:00-04:00   52287000        0.0           0.0  \n",
      "2024-10-24 00:00:00-04:00   31109500        0.0           0.0  \n",
      "2024-10-25 00:00:00-04:00   38802300        0.0           0.0  \n",
      "2024-10-28 00:00:00-04:00   36087100        0.0           0.0  \n",
      "2024-10-29 00:00:00-04:00   30768254        0.0           0.0  \n",
      "\n",
      "[11062 rows x 7 columns]\n"
     ]
    }
   ],
   "source": [
    "# Fetch Data function\n",
    "def fetch_stock_data(company_ticker):\n",
    "    \"\"\"Fetches historical stock data\"\"\"\n",
    "    \n",
    "    try:\n",
    "        ticker = yf.Ticker(company_ticker)\n",
    "        stock_data = ticker.history(period=\"max\")  # Fetching available data\n",
    "        \n",
    "        if stock_data.empty:\n",
    "            print(f\"The company '{company_ticker}' is not currently listed or may have been delisted.\")\n",
    "            return None\n",
    "        \n",
    "        print(f\"Fetching stock data for {company_ticker}\")\n",
    "        return stock_data\n",
    "\n",
    "    except Exception as e:\n",
    "        # Catch exceptions, inform user\n",
    "        print(f\"Error: Unable to fetch data for '{company_ticker}'. Please check the ticker and try again.\")\n",
    "        return None\n",
    "\n",
    "if __name__ == \"__main__\":\n",
    "    company_ticker = \"AAPL\"  # Apple Inc.\n",
    "    stock_data = fetch_stock_data(company_ticker)\n",
    "    \n",
    "    if stock_data is not None:\n",
    "        print(stock_data)\n"
   ]
  },
  {
   "cell_type": "code",
   "execution_count": 4,
   "id": "2f8c6f77",
   "metadata": {},
   "outputs": [
    {
     "data": {
      "text/html": [
       "<div>\n",
       "<style scoped>\n",
       "    .dataframe tbody tr th:only-of-type {\n",
       "        vertical-align: middle;\n",
       "    }\n",
       "\n",
       "    .dataframe tbody tr th {\n",
       "        vertical-align: top;\n",
       "    }\n",
       "\n",
       "    .dataframe thead th {\n",
       "        text-align: right;\n",
       "    }\n",
       "</style>\n",
       "<table border=\"1\" class=\"dataframe\">\n",
       "  <thead>\n",
       "    <tr style=\"text-align: right;\">\n",
       "      <th></th>\n",
       "      <th>Open</th>\n",
       "      <th>High</th>\n",
       "      <th>Low</th>\n",
       "      <th>Close</th>\n",
       "      <th>Volume</th>\n",
       "      <th>Dividends</th>\n",
       "      <th>Stock Splits</th>\n",
       "    </tr>\n",
       "    <tr>\n",
       "      <th>Date</th>\n",
       "      <th></th>\n",
       "      <th></th>\n",
       "      <th></th>\n",
       "      <th></th>\n",
       "      <th></th>\n",
       "      <th></th>\n",
       "      <th></th>\n",
       "    </tr>\n",
       "  </thead>\n",
       "  <tbody>\n",
       "    <tr>\n",
       "      <th>1980-12-12 00:00:00-05:00</th>\n",
       "      <td>0.098943</td>\n",
       "      <td>0.099373</td>\n",
       "      <td>0.098943</td>\n",
       "      <td>0.098943</td>\n",
       "      <td>469033600</td>\n",
       "      <td>0.0</td>\n",
       "      <td>0.0</td>\n",
       "    </tr>\n",
       "    <tr>\n",
       "      <th>1980-12-15 00:00:00-05:00</th>\n",
       "      <td>0.094211</td>\n",
       "      <td>0.094211</td>\n",
       "      <td>0.093781</td>\n",
       "      <td>0.093781</td>\n",
       "      <td>175884800</td>\n",
       "      <td>0.0</td>\n",
       "      <td>0.0</td>\n",
       "    </tr>\n",
       "    <tr>\n",
       "      <th>1980-12-16 00:00:00-05:00</th>\n",
       "      <td>0.087328</td>\n",
       "      <td>0.087328</td>\n",
       "      <td>0.086898</td>\n",
       "      <td>0.086898</td>\n",
       "      <td>105728000</td>\n",
       "      <td>0.0</td>\n",
       "      <td>0.0</td>\n",
       "    </tr>\n",
       "    <tr>\n",
       "      <th>1980-12-17 00:00:00-05:00</th>\n",
       "      <td>0.089049</td>\n",
       "      <td>0.089479</td>\n",
       "      <td>0.089049</td>\n",
       "      <td>0.089049</td>\n",
       "      <td>86441600</td>\n",
       "      <td>0.0</td>\n",
       "      <td>0.0</td>\n",
       "    </tr>\n",
       "    <tr>\n",
       "      <th>1980-12-18 00:00:00-05:00</th>\n",
       "      <td>0.091630</td>\n",
       "      <td>0.092061</td>\n",
       "      <td>0.091630</td>\n",
       "      <td>0.091630</td>\n",
       "      <td>73449600</td>\n",
       "      <td>0.0</td>\n",
       "      <td>0.0</td>\n",
       "    </tr>\n",
       "  </tbody>\n",
       "</table>\n",
       "</div>"
      ],
      "text/plain": [
       "                               Open      High       Low     Close     Volume  \\\n",
       "Date                                                                           \n",
       "1980-12-12 00:00:00-05:00  0.098943  0.099373  0.098943  0.098943  469033600   \n",
       "1980-12-15 00:00:00-05:00  0.094211  0.094211  0.093781  0.093781  175884800   \n",
       "1980-12-16 00:00:00-05:00  0.087328  0.087328  0.086898  0.086898  105728000   \n",
       "1980-12-17 00:00:00-05:00  0.089049  0.089479  0.089049  0.089049   86441600   \n",
       "1980-12-18 00:00:00-05:00  0.091630  0.092061  0.091630  0.091630   73449600   \n",
       "\n",
       "                           Dividends  Stock Splits  \n",
       "Date                                                \n",
       "1980-12-12 00:00:00-05:00        0.0           0.0  \n",
       "1980-12-15 00:00:00-05:00        0.0           0.0  \n",
       "1980-12-16 00:00:00-05:00        0.0           0.0  \n",
       "1980-12-17 00:00:00-05:00        0.0           0.0  \n",
       "1980-12-18 00:00:00-05:00        0.0           0.0  "
      ]
     },
     "execution_count": 4,
     "metadata": {},
     "output_type": "execute_result"
    }
   ],
   "source": [
    "stock_data.head(5)"
   ]
  },
  {
   "cell_type": "markdown",
   "id": "47f676e6",
   "metadata": {},
   "source": [
    "### 2. FAMA French 5-Factor Dataset"
   ]
  },
  {
   "cell_type": "code",
   "execution_count": 5,
   "id": "ecb2924c",
   "metadata": {},
   "outputs": [
    {
     "name": "stdout",
     "output_type": "stream",
     "text": [
      "            Mkt-RF   SMB   HML   RMW   CMA     RF\n",
      "Date                                             \n",
      "1963-07-01   -0.67  0.02 -0.35  0.03  0.13  0.012\n",
      "1963-07-02    0.79 -0.28  0.28 -0.08 -0.21  0.012\n",
      "1963-07-03    0.63 -0.18 -0.10  0.13 -0.25  0.012\n",
      "1963-07-05    0.40  0.09 -0.28  0.07 -0.30  0.012\n",
      "1963-07-08   -0.63  0.07 -0.20 -0.27  0.06  0.012\n",
      "...            ...   ...   ...   ...   ...    ...\n",
      "2024-08-26   -0.34  0.33  0.16  0.13 -0.06  0.022\n",
      "2024-08-27    0.06 -0.90  0.02  0.27  0.23  0.022\n",
      "2024-08-28   -0.67 -0.22  1.14  0.55 -0.16  0.022\n",
      "2024-08-29    0.08  0.67  0.28 -0.15 -1.22  0.022\n",
      "2024-08-30    0.98 -0.56  0.04 -0.20 -0.14  0.022\n",
      "\n",
      "[15397 rows x 6 columns]\n"
     ]
    }
   ],
   "source": [
    "# Download and extract the data\n",
    "url = \"https://mba.tuck.dartmouth.edu/pages/faculty/ken.french/ftp/F-F_Research_Data_5_Factors_2x3_daily_CSV.zip\"\n",
    "ff_factors = pd.read_csv(url, skiprows=3)\n",
    "\n",
    "ff_factors.columns = ['Date', 'Mkt-RF', 'SMB', 'HML', 'RMW', 'CMA', 'RF']\n",
    "ff_factors.dropna(inplace=True)\n",
    "\n",
    "ff_factors['Date'] = pd.to_datetime(ff_factors['Date'], format='%Y%m%d')\n",
    "ff_factors.set_index('Date', inplace=True)\n",
    "\n",
    "# Filter data starting from 1963\n",
    "ff_factors = ff_factors[ff_factors.index >= '1963-01-01']\n",
    "print(ff_factors)"
   ]
  },
  {
   "cell_type": "code",
   "execution_count": null,
   "id": "5e9c7c6a",
   "metadata": {},
   "outputs": [],
   "source": []
  },
  {
   "cell_type": "markdown",
   "id": "03523e66",
   "metadata": {},
   "source": [
    "\n"
   ]
  },
  {
   "cell_type": "markdown",
   "id": "5ca2d48c",
   "metadata": {},
   "source": [
    "### 3. Average Daily Sales (ADS) Data"
   ]
  },
  {
   "cell_type": "code",
   "execution_count": 6,
   "id": "adc23ac0",
   "metadata": {},
   "outputs": [
    {
     "data": {
      "text/html": [
       "<div>\n",
       "<style scoped>\n",
       "    .dataframe tbody tr th:only-of-type {\n",
       "        vertical-align: middle;\n",
       "    }\n",
       "\n",
       "    .dataframe tbody tr th {\n",
       "        vertical-align: top;\n",
       "    }\n",
       "\n",
       "    .dataframe thead th {\n",
       "        text-align: right;\n",
       "    }\n",
       "</style>\n",
       "<table border=\"1\" class=\"dataframe\">\n",
       "  <thead>\n",
       "    <tr style=\"text-align: right;\">\n",
       "      <th></th>\n",
       "      <th>Date</th>\n",
       "      <th>ADS_Index</th>\n",
       "    </tr>\n",
       "  </thead>\n",
       "  <tbody>\n",
       "    <tr>\n",
       "      <th>0</th>\n",
       "      <td>1960:03:01</td>\n",
       "      <td>-0.578899</td>\n",
       "    </tr>\n",
       "    <tr>\n",
       "      <th>1</th>\n",
       "      <td>1960:03:02</td>\n",
       "      <td>-0.627759</td>\n",
       "    </tr>\n",
       "    <tr>\n",
       "      <th>2</th>\n",
       "      <td>1960:03:03</td>\n",
       "      <td>-0.673502</td>\n",
       "    </tr>\n",
       "    <tr>\n",
       "      <th>3</th>\n",
       "      <td>1960:03:04</td>\n",
       "      <td>-0.716147</td>\n",
       "    </tr>\n",
       "    <tr>\n",
       "      <th>4</th>\n",
       "      <td>1960:03:05</td>\n",
       "      <td>-0.755708</td>\n",
       "    </tr>\n",
       "    <tr>\n",
       "      <th>...</th>\n",
       "      <td>...</td>\n",
       "      <td>...</td>\n",
       "    </tr>\n",
       "    <tr>\n",
       "      <th>23597</th>\n",
       "      <td>2024:10:08</td>\n",
       "      <td>-0.222386</td>\n",
       "    </tr>\n",
       "    <tr>\n",
       "      <th>23598</th>\n",
       "      <td>2024:10:09</td>\n",
       "      <td>-0.214301</td>\n",
       "    </tr>\n",
       "    <tr>\n",
       "      <th>23599</th>\n",
       "      <td>2024:10:10</td>\n",
       "      <td>-0.207277</td>\n",
       "    </tr>\n",
       "    <tr>\n",
       "      <th>23600</th>\n",
       "      <td>2024:10:11</td>\n",
       "      <td>-0.201311</td>\n",
       "    </tr>\n",
       "    <tr>\n",
       "      <th>23601</th>\n",
       "      <td>2024:10:12</td>\n",
       "      <td>-0.196400</td>\n",
       "    </tr>\n",
       "  </tbody>\n",
       "</table>\n",
       "<p>23602 rows × 2 columns</p>\n",
       "</div>"
      ],
      "text/plain": [
       "             Date  ADS_Index\n",
       "0      1960:03:01  -0.578899\n",
       "1      1960:03:02  -0.627759\n",
       "2      1960:03:03  -0.673502\n",
       "3      1960:03:04  -0.716147\n",
       "4      1960:03:05  -0.755708\n",
       "...           ...        ...\n",
       "23597  2024:10:08  -0.222386\n",
       "23598  2024:10:09  -0.214301\n",
       "23599  2024:10:10  -0.207277\n",
       "23600  2024:10:11  -0.201311\n",
       "23601  2024:10:12  -0.196400\n",
       "\n",
       "[23602 rows x 2 columns]"
      ]
     },
     "execution_count": 6,
     "metadata": {},
     "output_type": "execute_result"
    }
   ],
   "source": [
    "# ADS_Index File\n",
    "ads_index = pd.read_csv(\"data/ADS_Index.csv\")\n",
    "ads_index.rename(columns={'Unnamed: 0': 'Date'}, inplace=True)\n",
    "ads_index"
   ]
  },
  {
   "cell_type": "code",
   "execution_count": null,
   "id": "c4312054",
   "metadata": {},
   "outputs": [],
   "source": []
  },
  {
   "cell_type": "code",
   "execution_count": null,
   "id": "ca4df5eb",
   "metadata": {},
   "outputs": [],
   "source": []
  },
  {
   "cell_type": "code",
   "execution_count": null,
   "id": "0d8a8b9b",
   "metadata": {},
   "outputs": [],
   "source": []
  },
  {
   "cell_type": "code",
   "execution_count": null,
   "id": "022cdc45",
   "metadata": {},
   "outputs": [],
   "source": []
  }
 ],
 "metadata": {
  "kernelspec": {
   "display_name": "venv",
   "language": "python",
   "name": "python3"
  },
  "language_info": {
   "codemirror_mode": {
    "name": "ipython",
    "version": 3
   },
   "file_extension": ".py",
   "mimetype": "text/x-python",
   "name": "python",
   "nbconvert_exporter": "python",
   "pygments_lexer": "ipython3",
   "version": "3.12.3"
  }
 },
 "nbformat": 4,
 "nbformat_minor": 5
}
