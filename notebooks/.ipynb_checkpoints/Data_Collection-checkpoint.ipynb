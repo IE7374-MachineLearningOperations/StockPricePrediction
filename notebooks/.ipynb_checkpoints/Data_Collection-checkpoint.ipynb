{
 "cells": [
  {
   "cell_type": "markdown",
   "id": "7ea9194c",
   "metadata": {},
   "source": [
    "### 1. Loading yfinance data"
   ]
  },
  {
   "cell_type": "code",
   "execution_count": null,
   "id": "5bf3a349",
   "metadata": {},
   "outputs": [],
   "source": [
    "#!pip install yfinance\n"
   ]
  },
  {
   "cell_type": "code",
   "execution_count": 2,
   "id": "fb6570ea",
   "metadata": {},
   "outputs": [
    {
     "name": "stdout",
     "output_type": "stream",
     "text": [
      "Enter the company's stock ticker symbol: AAPL\n",
      "Fetching stock data for AAPL\n",
      "                                 Open        High         Low       Close  \\\n",
      "Date                                                                        \n",
      "1980-12-12 00:00:00-05:00    0.098943    0.099373    0.098943    0.098943   \n",
      "1980-12-15 00:00:00-05:00    0.094211    0.094211    0.093781    0.093781   \n",
      "1980-12-16 00:00:00-05:00    0.087328    0.087328    0.086898    0.086898   \n",
      "1980-12-17 00:00:00-05:00    0.089049    0.089479    0.089049    0.089049   \n",
      "1980-12-18 00:00:00-05:00    0.091630    0.092061    0.091630    0.091630   \n",
      "...                               ...         ...         ...         ...   \n",
      "2024-10-11 00:00:00-04:00  229.300003  229.410004  227.339996  227.550003   \n",
      "2024-10-14 00:00:00-04:00  228.699997  231.729996  228.600006  231.300003   \n",
      "2024-10-15 00:00:00-04:00  233.610001  237.490005  232.369995  233.850006   \n",
      "2024-10-16 00:00:00-04:00  231.600006  232.119995  229.839996  231.779999   \n",
      "2024-10-17 00:00:00-04:00  233.429993  233.850006  230.520004  232.149994   \n",
      "\n",
      "                              Volume  Dividends  Stock Splits  \n",
      "Date                                                           \n",
      "1980-12-12 00:00:00-05:00  469033600        0.0           0.0  \n",
      "1980-12-15 00:00:00-05:00  175884800        0.0           0.0  \n",
      "1980-12-16 00:00:00-05:00  105728000        0.0           0.0  \n",
      "1980-12-17 00:00:00-05:00   86441600        0.0           0.0  \n",
      "1980-12-18 00:00:00-05:00   73449600        0.0           0.0  \n",
      "...                              ...        ...           ...  \n",
      "2024-10-11 00:00:00-04:00   31759200        0.0           0.0  \n",
      "2024-10-14 00:00:00-04:00   39882100        0.0           0.0  \n",
      "2024-10-15 00:00:00-04:00   64751400        0.0           0.0  \n",
      "2024-10-16 00:00:00-04:00   34082200        0.0           0.0  \n",
      "2024-10-17 00:00:00-04:00   32978900        0.0           0.0  \n",
      "\n",
      "[11054 rows x 7 columns]\n"
     ]
    }
   ],
   "source": [
    "import yfinance as yf\n",
    "import pandas as pd\n",
    "from datetime import datetime\n",
    "\n",
    "def fetch_stock_data(company_name):\n",
    "    try:\n",
    "        # Attempt to download data for the provided company name (ticker)\n",
    "        ticker = yf.Ticker(company_name)\n",
    "        stock_data = ticker.history(period=\"max\")  # Fetching all data since listing\n",
    "        \n",
    "        # If stock_data is empty, company is either delisted or doesn't exist\n",
    "        if stock_data.empty:\n",
    "            print(f\"The company '{company_name}' is not currently listed or has been delisted.\")\n",
    "            return None\n",
    "        \n",
    "        # Return the fetched stock data\n",
    "        print(f\"Fetching stock data for {company_name}\")\n",
    "        return stock_data\n",
    "\n",
    "    except Exception as e:\n",
    "        # If an error occurs, inform the user and suggest retrying\n",
    "        print(f\"Error: The company '{company_name}' is not listed on the stock market. Please try again.\")\n",
    "        return None\n",
    "\n",
    "\n",
    "# Example usage:\n",
    "company_name = input(\"Enter the company's stock ticker symbol: \")\n",
    "stock_data = fetch_stock_data(company_name)\n",
    "\n",
    "if stock_data is not None:\n",
    "    print(stock_data)\n"
   ]
  },
  {
   "cell_type": "code",
   "execution_count": 3,
   "id": "16520a47",
   "metadata": {},
   "outputs": [
    {
     "data": {
      "text/html": [
       "<div>\n",
       "<style scoped>\n",
       "    .dataframe tbody tr th:only-of-type {\n",
       "        vertical-align: middle;\n",
       "    }\n",
       "\n",
       "    .dataframe tbody tr th {\n",
       "        vertical-align: top;\n",
       "    }\n",
       "\n",
       "    .dataframe thead th {\n",
       "        text-align: right;\n",
       "    }\n",
       "</style>\n",
       "<table border=\"1\" class=\"dataframe\">\n",
       "  <thead>\n",
       "    <tr style=\"text-align: right;\">\n",
       "      <th></th>\n",
       "      <th>Open</th>\n",
       "      <th>High</th>\n",
       "      <th>Low</th>\n",
       "      <th>Close</th>\n",
       "      <th>Volume</th>\n",
       "      <th>Dividends</th>\n",
       "      <th>Stock Splits</th>\n",
       "    </tr>\n",
       "    <tr>\n",
       "      <th>Date</th>\n",
       "      <th></th>\n",
       "      <th></th>\n",
       "      <th></th>\n",
       "      <th></th>\n",
       "      <th></th>\n",
       "      <th></th>\n",
       "      <th></th>\n",
       "    </tr>\n",
       "  </thead>\n",
       "  <tbody>\n",
       "    <tr>\n",
       "      <th>1980-12-12 00:00:00-05:00</th>\n",
       "      <td>0.098943</td>\n",
       "      <td>0.099373</td>\n",
       "      <td>0.098943</td>\n",
       "      <td>0.098943</td>\n",
       "      <td>469033600</td>\n",
       "      <td>0.0</td>\n",
       "      <td>0.0</td>\n",
       "    </tr>\n",
       "    <tr>\n",
       "      <th>1980-12-15 00:00:00-05:00</th>\n",
       "      <td>0.094211</td>\n",
       "      <td>0.094211</td>\n",
       "      <td>0.093781</td>\n",
       "      <td>0.093781</td>\n",
       "      <td>175884800</td>\n",
       "      <td>0.0</td>\n",
       "      <td>0.0</td>\n",
       "    </tr>\n",
       "    <tr>\n",
       "      <th>1980-12-16 00:00:00-05:00</th>\n",
       "      <td>0.087328</td>\n",
       "      <td>0.087328</td>\n",
       "      <td>0.086898</td>\n",
       "      <td>0.086898</td>\n",
       "      <td>105728000</td>\n",
       "      <td>0.0</td>\n",
       "      <td>0.0</td>\n",
       "    </tr>\n",
       "    <tr>\n",
       "      <th>1980-12-17 00:00:00-05:00</th>\n",
       "      <td>0.089049</td>\n",
       "      <td>0.089479</td>\n",
       "      <td>0.089049</td>\n",
       "      <td>0.089049</td>\n",
       "      <td>86441600</td>\n",
       "      <td>0.0</td>\n",
       "      <td>0.0</td>\n",
       "    </tr>\n",
       "    <tr>\n",
       "      <th>1980-12-18 00:00:00-05:00</th>\n",
       "      <td>0.091630</td>\n",
       "      <td>0.092061</td>\n",
       "      <td>0.091630</td>\n",
       "      <td>0.091630</td>\n",
       "      <td>73449600</td>\n",
       "      <td>0.0</td>\n",
       "      <td>0.0</td>\n",
       "    </tr>\n",
       "  </tbody>\n",
       "</table>\n",
       "</div>"
      ],
      "text/plain": [
       "                               Open      High       Low     Close     Volume  \\\n",
       "Date                                                                           \n",
       "1980-12-12 00:00:00-05:00  0.098943  0.099373  0.098943  0.098943  469033600   \n",
       "1980-12-15 00:00:00-05:00  0.094211  0.094211  0.093781  0.093781  175884800   \n",
       "1980-12-16 00:00:00-05:00  0.087328  0.087328  0.086898  0.086898  105728000   \n",
       "1980-12-17 00:00:00-05:00  0.089049  0.089479  0.089049  0.089049   86441600   \n",
       "1980-12-18 00:00:00-05:00  0.091630  0.092061  0.091630  0.091630   73449600   \n",
       "\n",
       "                           Dividends  Stock Splits  \n",
       "Date                                                \n",
       "1980-12-12 00:00:00-05:00        0.0           0.0  \n",
       "1980-12-15 00:00:00-05:00        0.0           0.0  \n",
       "1980-12-16 00:00:00-05:00        0.0           0.0  \n",
       "1980-12-17 00:00:00-05:00        0.0           0.0  \n",
       "1980-12-18 00:00:00-05:00        0.0           0.0  "
      ]
     },
     "execution_count": 3,
     "metadata": {},
     "output_type": "execute_result"
    }
   ],
   "source": [
    "stock_data.head(5)"
   ]
  },
  {
   "cell_type": "code",
   "execution_count": null,
   "id": "8f193087",
   "metadata": {},
   "outputs": [],
   "source": []
  },
  {
   "cell_type": "markdown",
   "id": "f5654323",
   "metadata": {},
   "source": [
    "### 2. FAMA French 5-Factor Dataset"
   ]
  },
  {
   "cell_type": "code",
   "execution_count": 4,
   "id": "63bfcae5",
   "metadata": {},
   "outputs": [],
   "source": [
    "#!pip install pandas-datareader\n"
   ]
  },
  {
   "cell_type": "code",
   "execution_count": 5,
   "id": "e8664121",
   "metadata": {},
   "outputs": [
    {
     "name": "stdout",
     "output_type": "stream",
     "text": [
      "         Mkt-RF   SMB   HML   RMW   CMA    RF\n",
      "Date                                         \n",
      "2019-10    2.06  0.27 -1.90  0.43 -0.95  0.16\n",
      "2019-11    3.88  0.45 -1.99 -1.63 -1.25  0.12\n",
      "2019-12    2.77  0.97  1.78 -0.02  1.23  0.14\n",
      "2020-01   -0.11 -4.40 -6.25 -1.20 -2.30  0.13\n",
      "2020-02   -8.13  0.04 -3.80 -1.49 -2.52  0.12\n"
     ]
    },
    {
     "name": "stderr",
     "output_type": "stream",
     "text": [
      "/var/folders/_k/hb8y9wrj6d723x48prtt8lb80000gn/T/ipykernel_6724/1546264937.py:6: FutureWarning: The argument 'date_parser' is deprecated and will be removed in a future version. Please use 'date_format' instead, or read your data in as 'object' dtype and then call 'to_datetime'.\n",
      "  ff_data = web.DataReader(\"F-F_Research_Data_5_Factors_2x3\", \"famafrench\")\n",
      "/var/folders/_k/hb8y9wrj6d723x48prtt8lb80000gn/T/ipykernel_6724/1546264937.py:6: FutureWarning: The argument 'date_parser' is deprecated and will be removed in a future version. Please use 'date_format' instead, or read your data in as 'object' dtype and then call 'to_datetime'.\n",
      "  ff_data = web.DataReader(\"F-F_Research_Data_5_Factors_2x3\", \"famafrench\")\n"
     ]
    }
   ],
   "source": [
    "import pandas_datareader.data as web\n",
    "\n",
    "def fetch_fama_french_five_factors():\n",
    "    try:\n",
    "        # Fetch Fama-French five-factor data from Kenneth French's data library\n",
    "        ff_data = web.DataReader(\"F-F_Research_Data_5_Factors_2x3\", \"famafrench\")\n",
    "        \n",
    "        # The data comes in multiple tables, but we'll extract the main factor data (first table)\n",
    "        factors = ff_data[0]\n",
    "        \n",
    "        # Print a summary of the data\n",
    "        print(factors.head())\n",
    "        \n",
    "        return factors\n",
    "    except Exception as e:\n",
    "        print(f\"Error fetching Fama-French five-factor data: {e}\")\n",
    "\n",
    "# Fetch and print the Fama-French five-factor data\n",
    "fama_french_factors = fetch_fama_french_five_factors()"
   ]
  },
  {
   "cell_type": "code",
   "execution_count": null,
   "id": "e49a85c3",
   "metadata": {},
   "outputs": [],
   "source": []
  },
  {
   "cell_type": "code",
   "execution_count": null,
   "id": "5ac89c32",
   "metadata": {},
   "outputs": [],
   "source": []
  },
  {
   "cell_type": "code",
   "execution_count": null,
   "id": "19b2cc6d",
   "metadata": {},
   "outputs": [],
   "source": []
  },
  {
   "cell_type": "code",
   "execution_count": null,
   "id": "6375456b",
   "metadata": {},
   "outputs": [],
   "source": []
  },
  {
   "cell_type": "code",
   "execution_count": null,
   "id": "251e7899",
   "metadata": {},
   "outputs": [],
   "source": []
  },
  {
   "cell_type": "code",
   "execution_count": null,
   "id": "e9f9894e",
   "metadata": {},
   "outputs": [],
   "source": []
  }
 ],
 "metadata": {
  "kernelspec": {
   "display_name": "Python 3 (ipykernel)",
   "language": "python",
   "name": "python3"
  },
  "language_info": {
   "codemirror_mode": {
    "name": "ipython",
    "version": 3
   },
   "file_extension": ".py",
   "mimetype": "text/x-python",
   "name": "python",
   "nbconvert_exporter": "python",
   "pygments_lexer": "ipython3",
   "version": "3.11.5"
  }
 },
 "nbformat": 4,
 "nbformat_minor": 5
}
