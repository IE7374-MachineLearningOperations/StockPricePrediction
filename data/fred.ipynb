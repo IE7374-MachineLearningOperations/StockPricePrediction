{
 "cells": [
  {
   "cell_type": "code",
   "execution_count": 8,
   "metadata": {},
   "outputs": [],
   "source": [
    "import pandas as pd\n",
    "import glob"
   ]
  },
  {
   "cell_type": "code",
   "execution_count": 9,
   "metadata": {},
   "outputs": [
    {
     "data": {
      "text/plain": [
       "['data/fred_variables/DGS10.csv',\n",
       " 'data/fred_variables/RIFSPPFAAD90NB.csv',\n",
       " 'data/fred_variables/DGS1.csv',\n",
       " 'data/fred_variables/CBETHUSD.csv',\n",
       " 'data/fred_variables/DBAA.csv',\n",
       " 'data/fred_variables/USRECDP.csv',\n",
       " 'data/fred_variables/USRECD.csv',\n",
       " 'data/fred_variables/DCPN3M.csv',\n",
       " 'data/fred_variables/DCPF1M.csv',\n",
       " 'data/fred_variables/DAAA.csv',\n",
       " 'data/fred_variables/T10Y3M.csv',\n",
       " 'data/fred_variables/BAMLH0A0HYM2.csv',\n",
       " 'data/fred_variables/T10YIE.csv',\n",
       " 'data/fred_variables/DHHNGSP.csv',\n",
       " 'data/fred_variables/AMERIBOR.csv',\n",
       " 'data/fred_variables/USRECDM.csv',\n",
       " 'data/fred_variables/CBBTCUSD.csv',\n",
       " 'data/fred_variables/DEXUSUK.csv',\n",
       " 'data/fred_variables/DCOILWTICO.csv',\n",
       " 'data/fred_variables/VIXCLS.csv',\n",
       " 'data/fred_variables/DEXJPUS.csv',\n",
       " 'data/fred_variables/DEXUSEU.csv',\n",
       " 'data/fred_variables/T5YIE.csv',\n",
       " 'data/fred_variables/OBMMIJUMBO30YF.csv',\n",
       " 'data/fred_variables/NIKKEI225.csv',\n",
       " 'data/fred_variables/BAMLH0A0HYM2EY.csv',\n",
       " 'data/fred_variables/DCOILBRENTEU.csv']"
      ]
     },
     "execution_count": 9,
     "metadata": {},
     "output_type": "execute_result"
    }
   ],
   "source": [
    "#read all the files in the directory data/fred_variables\n",
    "files = glob.glob('data/fred_variables/*.csv')\n",
    "files"
   ]
  },
  {
   "cell_type": "code",
   "execution_count": 22,
   "metadata": {},
   "outputs": [
    {
     "data": {
      "text/plain": [
       "DATE     object\n",
       "DGS10    object\n",
       "dtype: object"
      ]
     },
     "execution_count": 22,
     "metadata": {},
     "output_type": "execute_result"
    }
   ],
   "source": [
    "df = pd.read_csv(files[0])\n",
    "df.dtypes"
   ]
  },
  {
   "cell_type": "code",
   "execution_count": 23,
   "metadata": {},
   "outputs": [
    {
     "data": {
      "text/plain": [
       "DATE     datetime64[ns]\n",
       "DGS10            object\n",
       "dtype: object"
      ]
     },
     "execution_count": 23,
     "metadata": {},
     "output_type": "execute_result"
    }
   ],
   "source": [
    "df[\"DATE\"] = pd.to_datetime(df[\"DATE\"])\n",
    "df.dtypes"
   ]
  },
  {
   "cell_type": "code",
   "execution_count": 24,
   "metadata": {},
   "outputs": [
    {
     "data": {
      "text/html": [
       "<div>\n",
       "<style scoped>\n",
       "    .dataframe tbody tr th:only-of-type {\n",
       "        vertical-align: middle;\n",
       "    }\n",
       "\n",
       "    .dataframe tbody tr th {\n",
       "        vertical-align: top;\n",
       "    }\n",
       "\n",
       "    .dataframe thead th {\n",
       "        text-align: right;\n",
       "    }\n",
       "</style>\n",
       "<table border=\"1\" class=\"dataframe\">\n",
       "  <thead>\n",
       "    <tr style=\"text-align: right;\">\n",
       "      <th></th>\n",
       "      <th>DATE</th>\n",
       "      <th>DGS10</th>\n",
       "    </tr>\n",
       "  </thead>\n",
       "  <tbody>\n",
       "    <tr>\n",
       "      <th>16381</th>\n",
       "      <td>2024-10-16</td>\n",
       "      <td>4.02</td>\n",
       "    </tr>\n",
       "    <tr>\n",
       "      <th>16382</th>\n",
       "      <td>2024-10-17</td>\n",
       "      <td>4.09</td>\n",
       "    </tr>\n",
       "    <tr>\n",
       "      <th>16383</th>\n",
       "      <td>2024-10-18</td>\n",
       "      <td>4.08</td>\n",
       "    </tr>\n",
       "  </tbody>\n",
       "</table>\n",
       "</div>"
      ],
      "text/plain": [
       "            DATE DGS10\n",
       "16381 2024-10-16  4.02\n",
       "16382 2024-10-17  4.09\n",
       "16383 2024-10-18  4.08"
      ]
     },
     "execution_count": 24,
     "metadata": {},
     "output_type": "execute_result"
    }
   ],
   "source": [
    "df.tail(3)"
   ]
  },
  {
   "cell_type": "code",
   "execution_count": 33,
   "metadata": {},
   "outputs": [
    {
     "name": "stdout",
     "output_type": "stream",
     "text": [
      "             DATE DGS10 RIFSPPFAAD90NB  DGS1 CBETHUSD  DBAA  USRECDP  USRECD  \\\n",
      "17265  1854-12-01   NaN            NaN   NaN      NaN   NaN      0.0     1.0   \n",
      "17266  1854-12-02   NaN            NaN   NaN      NaN   NaN      0.0     1.0   \n",
      "17267  1854-12-03   NaN            NaN   NaN      NaN   NaN      0.0     1.0   \n",
      "17268  1854-12-04   NaN            NaN   NaN      NaN   NaN      0.0     1.0   \n",
      "17269  1854-12-05   NaN            NaN   NaN      NaN   NaN      0.0     1.0   \n",
      "...           ...   ...            ...   ...      ...   ...      ...     ...   \n",
      "16383  2024-10-18  4.08            NaN  4.19  2647.97  5.61      0.0     0.0   \n",
      "17262  2024-10-19   NaN            NaN   NaN  2746.22   NaN      0.0     0.0   \n",
      "17263  2024-10-20   NaN            NaN   NaN  2665.35   NaN      0.0     0.0   \n",
      "17264  2024-10-21   NaN            NaN   NaN  2667.59  5.73      NaN     NaN   \n",
      "62052  2024-10-22   NaN            NaN   NaN      NaN   NaN      NaN     NaN   \n",
      "\n",
      "      DCPN3M DCPF1M  ... DEXUSUK DCOILWTICO VIXCLS DEXJPUS DEXUSEU T5YIE  \\\n",
      "17265    NaN    NaN  ...     NaN        NaN    NaN     NaN     NaN   NaN   \n",
      "17266    NaN    NaN  ...     NaN        NaN    NaN     NaN     NaN   NaN   \n",
      "17267    NaN    NaN  ...     NaN        NaN    NaN     NaN     NaN   NaN   \n",
      "17268    NaN    NaN  ...     NaN        NaN    NaN     NaN     NaN   NaN   \n",
      "17269    NaN    NaN  ...     NaN        NaN    NaN     NaN     NaN   NaN   \n",
      "...      ...    ...  ...     ...        ...    ...     ...     ...   ...   \n",
      "16383   4.49    NaN  ...  1.3022        NaN  18.03  149.58  1.0854  2.23   \n",
      "17262    NaN    NaN  ...     NaN        NaN    NaN     NaN     NaN   NaN   \n",
      "17263    NaN    NaN  ...     NaN        NaN    NaN     NaN     NaN   NaN   \n",
      "17264    NaN    NaN  ...     NaN        NaN  18.37     NaN     NaN  2.23   \n",
      "62052    NaN    NaN  ...     NaN        NaN    NaN     NaN     NaN   NaN   \n",
      "\n",
      "       OBMMIJUMBO30YF NIKKEI225 BAMLH0A0HYM2EY DCOILBRENTEU  \n",
      "17265             NaN       NaN            NaN          NaN  \n",
      "17266             NaN       NaN            NaN          NaN  \n",
      "17267             NaN       NaN            NaN          NaN  \n",
      "17268             NaN       NaN            NaN          NaN  \n",
      "17269             NaN       NaN            NaN          NaN  \n",
      "...               ...       ...            ...          ...  \n",
      "16383           6.879  38981.75           6.79          NaN  \n",
      "17262             NaN       NaN            NaN          NaN  \n",
      "17263             NaN       NaN            NaN          NaN  \n",
      "17264           6.763   38954.6           6.88          NaN  \n",
      "62052             NaN  38411.96            NaN          NaN  \n",
      "\n",
      "[62053 rows x 28 columns]\n"
     ]
    }
   ],
   "source": [
    "res = pd.read_csv(files[0])\n",
    "res['DATE'] = pd.to_datetime(res['DATE'], format='%Y-%m-%d')\n",
    "for file in files[1:]:\n",
    "    #convert DATE to date\n",
    "    df = pd.read_csv(file)\n",
    "    df['DATE'] = pd.to_datetime(df['DATE'], format='%Y-%m-%d')\n",
    "    res = pd.merge(res, df, on='DATE', how='outer')\n",
    "res = res.sort_values('DATE')\n",
    "res[\"DATE\"] = res[\"DATE\"].dt.strftime('%Y-%m-%d')\n",
    "print(res)\n"
   ]
  },
  {
   "cell_type": "code",
   "execution_count": 34,
   "metadata": {},
   "outputs": [],
   "source": [
    "#save the result to a csv file\n",
    "res.to_csv('data/fred_variables.csv', index=False)"
   ]
  },
  {
   "cell_type": "code",
   "execution_count": null,
   "metadata": {},
   "outputs": [],
   "source": []
  }
 ],
 "metadata": {
  "kernelspec": {
   "display_name": "base",
   "language": "python",
   "name": "python3"
  },
  "language_info": {
   "codemirror_mode": {
    "name": "ipython",
    "version": 3
   },
   "file_extension": ".py",
   "mimetype": "text/x-python",
   "name": "python",
   "nbconvert_exporter": "python",
   "pygments_lexer": "ipython3",
   "version": "3.9.15"
  }
 },
 "nbformat": 4,
 "nbformat_minor": 2
}
