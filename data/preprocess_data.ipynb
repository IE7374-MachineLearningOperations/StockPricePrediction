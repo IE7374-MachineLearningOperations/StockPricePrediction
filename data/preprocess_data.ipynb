{
 "cells": [
  {
   "cell_type": "code",
   "execution_count": 1,
   "metadata": {},
   "outputs": [],
   "source": [
    "# pip install fredapi"
   ]
  },
  {
   "cell_type": "code",
   "execution_count": 2,
   "metadata": {},
   "outputs": [],
   "source": [
    "import yfinance as yf\n",
    "import pandas as pd\n",
    "import requests\n",
    "from fredapi import Fred\n",
    "import glob"
   ]
  },
  {
   "cell_type": "markdown",
   "metadata": {},
   "source": [
    "# Dataset"
   ]
  },
  {
   "cell_type": "markdown",
   "metadata": {},
   "source": [
    "## Y-Finance"
   ]
  },
  {
   "cell_type": "code",
   "execution_count": 3,
   "metadata": {},
   "outputs": [
    {
     "data": {
      "text/html": [
       "<div>\n",
       "<style scoped>\n",
       "    .dataframe tbody tr th:only-of-type {\n",
       "        vertical-align: middle;\n",
       "    }\n",
       "\n",
       "    .dataframe tbody tr th {\n",
       "        vertical-align: top;\n",
       "    }\n",
       "\n",
       "    .dataframe thead th {\n",
       "        text-align: right;\n",
       "    }\n",
       "</style>\n",
       "<table border=\"1\" class=\"dataframe\">\n",
       "  <thead>\n",
       "    <tr style=\"text-align: right;\">\n",
       "      <th></th>\n",
       "      <th>Date</th>\n",
       "      <th>Open</th>\n",
       "      <th>High</th>\n",
       "      <th>Low</th>\n",
       "      <th>Close</th>\n",
       "      <th>Volume</th>\n",
       "      <th>Dividends</th>\n",
       "      <th>Stock Splits</th>\n",
       "    </tr>\n",
       "  </thead>\n",
       "  <tbody>\n",
       "    <tr>\n",
       "      <th>0</th>\n",
       "      <td>2019-10-28</td>\n",
       "      <td>59.853616</td>\n",
       "      <td>60.296314</td>\n",
       "      <td>59.684279</td>\n",
       "      <td>60.247932</td>\n",
       "      <td>96572800</td>\n",
       "      <td>0.0</td>\n",
       "      <td>0.0</td>\n",
       "    </tr>\n",
       "    <tr>\n",
       "      <th>1</th>\n",
       "      <td>2019-10-29</td>\n",
       "      <td>60.228575</td>\n",
       "      <td>60.417265</td>\n",
       "      <td>58.680346</td>\n",
       "      <td>58.854519</td>\n",
       "      <td>142839600</td>\n",
       "      <td>0.0</td>\n",
       "      <td>0.0</td>\n",
       "    </tr>\n",
       "    <tr>\n",
       "      <th>2</th>\n",
       "      <td>2019-10-30</td>\n",
       "      <td>59.210137</td>\n",
       "      <td>59.340771</td>\n",
       "      <td>58.351356</td>\n",
       "      <td>58.847271</td>\n",
       "      <td>124522000</td>\n",
       "      <td>0.0</td>\n",
       "      <td>0.0</td>\n",
       "    </tr>\n",
       "    <tr>\n",
       "      <th>3</th>\n",
       "      <td>2019-10-31</td>\n",
       "      <td>59.810074</td>\n",
       "      <td>60.276961</td>\n",
       "      <td>57.395800</td>\n",
       "      <td>60.177776</td>\n",
       "      <td>139162000</td>\n",
       "      <td>0.0</td>\n",
       "      <td>0.0</td>\n",
       "    </tr>\n",
       "    <tr>\n",
       "      <th>4</th>\n",
       "      <td>2019-11-01</td>\n",
       "      <td>60.366473</td>\n",
       "      <td>61.912284</td>\n",
       "      <td>60.274549</td>\n",
       "      <td>61.885677</td>\n",
       "      <td>151125200</td>\n",
       "      <td>0.0</td>\n",
       "      <td>0.0</td>\n",
       "    </tr>\n",
       "  </tbody>\n",
       "</table>\n",
       "</div>"
      ],
      "text/plain": [
       "         Date       Open       High        Low      Close     Volume  \\\n",
       "0  2019-10-28  59.853616  60.296314  59.684279  60.247932   96572800   \n",
       "1  2019-10-29  60.228575  60.417265  58.680346  58.854519  142839600   \n",
       "2  2019-10-30  59.210137  59.340771  58.351356  58.847271  124522000   \n",
       "3  2019-10-31  59.810074  60.276961  57.395800  60.177776  139162000   \n",
       "4  2019-11-01  60.366473  61.912284  60.274549  61.885677  151125200   \n",
       "\n",
       "   Dividends  Stock Splits  \n",
       "0        0.0           0.0  \n",
       "1        0.0           0.0  \n",
       "2        0.0           0.0  \n",
       "3        0.0           0.0  \n",
       "4        0.0           0.0  "
      ]
     },
     "execution_count": 3,
     "metadata": {},
     "output_type": "execute_result"
    }
   ],
   "source": [
    "# Define the ticker symbol\n",
    "ticker_symbol = \"AAPL\"\n",
    "\n",
    "# Create a Ticker object\n",
    "ticker = yf.Ticker(ticker_symbol)\n",
    "\n",
    "# Fetch historical market data\n",
    "#period = ['1d', '5d', '1mo', '3mo', '6mo', '1y', '2y', '5y', '10y', 'ytd', 'max']\n",
    "historical_data = ticker.history(period=\"5y\") \n",
    "historical_data.reset_index(inplace=True) \n",
    "historical_data['Date'] = historical_data['Date'].dt.date\n",
    "historical_data.head(5)\n"
   ]
  },
  {
   "cell_type": "code",
   "execution_count": 4,
   "metadata": {},
   "outputs": [
    {
     "data": {
      "text/html": [
       "<div>\n",
       "<style scoped>\n",
       "    .dataframe tbody tr th:only-of-type {\n",
       "        vertical-align: middle;\n",
       "    }\n",
       "\n",
       "    .dataframe tbody tr th {\n",
       "        vertical-align: top;\n",
       "    }\n",
       "\n",
       "    .dataframe thead th {\n",
       "        text-align: right;\n",
       "    }\n",
       "</style>\n",
       "<table border=\"1\" class=\"dataframe\">\n",
       "  <thead>\n",
       "    <tr style=\"text-align: right;\">\n",
       "      <th></th>\n",
       "      <th>date</th>\n",
       "      <th>open</th>\n",
       "      <th>high</th>\n",
       "      <th>low</th>\n",
       "      <th>close</th>\n",
       "      <th>volume</th>\n",
       "      <th>dividends</th>\n",
       "      <th>stock_splits</th>\n",
       "    </tr>\n",
       "  </thead>\n",
       "  <tbody>\n",
       "    <tr>\n",
       "      <th>0</th>\n",
       "      <td>2019-10-28</td>\n",
       "      <td>59.853616</td>\n",
       "      <td>60.296314</td>\n",
       "      <td>59.684279</td>\n",
       "      <td>60.247932</td>\n",
       "      <td>96572800</td>\n",
       "      <td>0.0</td>\n",
       "      <td>0.0</td>\n",
       "    </tr>\n",
       "    <tr>\n",
       "      <th>1</th>\n",
       "      <td>2019-10-29</td>\n",
       "      <td>60.228575</td>\n",
       "      <td>60.417265</td>\n",
       "      <td>58.680346</td>\n",
       "      <td>58.854519</td>\n",
       "      <td>142839600</td>\n",
       "      <td>0.0</td>\n",
       "      <td>0.0</td>\n",
       "    </tr>\n",
       "  </tbody>\n",
       "</table>\n",
       "</div>"
      ],
      "text/plain": [
       "         date       open       high        low      close     volume  \\\n",
       "0  2019-10-28  59.853616  60.296314  59.684279  60.247932   96572800   \n",
       "1  2019-10-29  60.228575  60.417265  58.680346  58.854519  142839600   \n",
       "\n",
       "   dividends  stock_splits  \n",
       "0        0.0           0.0  \n",
       "1        0.0           0.0  "
      ]
     },
     "execution_count": 4,
     "metadata": {},
     "output_type": "execute_result"
    }
   ],
   "source": [
    "historical_data.columns = historical_data.columns.str.lower()\n",
    "historical_data.columns = historical_data.columns.str.replace(' ', '_')\n",
    "historical_data.head(2)"
   ]
  },
  {
   "cell_type": "code",
   "execution_count": 5,
   "metadata": {},
   "outputs": [],
   "source": [
    "historical_data.to_csv('data/formatted_datasets/historical_data.csv')"
   ]
  },
  {
   "cell_type": "markdown",
   "metadata": {},
   "source": [
    "## Fama-French 5 factors"
   ]
  },
  {
   "cell_type": "markdown",
   "metadata": {},
   "source": [
    "1. **Mkt-RF**: represents the additional return that investors require for taking on the risk of investing in the stock market rather than in a risk-free asset.\n",
    "- Formula: `Mkt-RF = Rm - RF` \n",
    "\n",
    "     where `Rm`: Expected return on stock market, `RF`: risk-free rate\n",
    "- Mkt-RF can be negative, where return on risk-free asset (government bonds,..) is higher than the return on stock market.\n",
    "- Example: If the stock market return is 3.61% and the risk-free rate is 2%, then the market risk premium is 1.61%.\n",
    "2. **SMB**: size premium, excess return of small-cap stocks over large-cap stocks. The idea behind SMB is that historically, smaller companies (small-cap stocks) tend to outperform larger companies (large-cap stocks), although this comes with higher risk.\n",
    "- Formula: `SMB = Small - Big` \n",
    "\n",
    "     where `Small`: return on small-cap stocks, `Big`: return on large-cap stocks\n",
    "- Example: There are 2 portfolios: **Small-Cap** Portfolio: Composed of smaller companies, such as emerging tech firms or small biotech companies. **Large-Cap** Portfolio: Composed of well-known, established companies like Apple, Microsoft, or Johnson & Johnson. Over a particular year: The Small-Cap Portfolio returns 12%, The Large-Cap Portfolio returns 8%. The size premium would be 4% (12% - 8%).\n",
    "3. **HML**: value premium, which is the difference in returns between stocks with high book-to-market ratios (value stocks) and stocks with low book-to-market ratios (growth stocks). The idea behind HML is that historically, value stocks tend to outperform growth stocks.\n",
    "- More explanation:\n",
    "\n",
    "    +  Value Stocks (High Book-to-Market): These are companies whose stock prices are low relative to their book value (assets minus liabilities). They are considered \"undervalued\" by the market, and they may be mature companies with steady, but slow, growth. Investors expect these stocks to eventually revert to a higher price as their fundamental value becomes recognized.\n",
    "\n",
    "    +  Growth Stocks (Low Book-to-Market): These are companies whose stock prices are high relative to their book value. These stocks are considered \"overvalued\" based on their fundamentals but are expected to grow rapidly in the future, justifying their higher prices.\n",
    "- General Formula: `HML = High - Low` \n",
    "\n",
    "     where `High`: return on value stocks, `Low`: return on growth stocks\n",
    "- Formula in FF:  is the average return on the two value portfolios minus the average return on the two growth portfolios\n",
    " \n",
    " `HML = 1/2 * (Small Value + Big Value) - 1/2 * (Small Growth + Big Growth)`\n",
    "4. **RMW**: profitability premium, which is the difference in returns between stocks of companies with high operating profitability and stocks of companies with low operating profitability. The idea behind RMW is that historically, companies with high profitability tend to outperform companies with low profitability.\n",
    "- Formula: `RMW = Robust - Weak` \n",
    "\n",
    "     where `Robust`: return on companies with high operating profitability, `Weak`: return on companies with low operating profitability\n",
    "5. **CMA**: investment premium, which is the difference in returns between stocks of companies that invest conservatively and stocks of companies that invest aggressively. The idea behind CMA is that historically, companies that invest conservatively tend to outperform companies that invest aggressively.\n",
    "- Formula: `CMA = Conservative - Aggressive` \n",
    "\n",
    "     where `Conservative`: return on companies that invest conservatively, `Aggressive`: return on companies that invest aggressively\n",
    "- Formula in FF:  is the average return on the two conservative investment portfolios minus the average return on the two aggressive investment portfolios\n",
    " \n",
    " `CMA = 1/2 * (Small Conservative + Big Conservative) - 1/2 * (Small Aggressive + Big Aggressive)`\n",
    " "
   ]
  },
  {
   "cell_type": "code",
   "execution_count": 6,
   "metadata": {},
   "outputs": [
    {
     "name": "stdout",
     "output_type": "stream",
     "text": [
      "       Date  Mkt-RF   SMB   HML   RMW   CMA     RF\n",
      "0  19630701   -0.67  0.02 -0.35  0.03  0.13  0.012\n",
      "1  19630702    0.79 -0.28  0.28 -0.08 -0.21  0.012\n",
      "2  19630703    0.63 -0.18 -0.10  0.13 -0.25  0.012\n",
      "3  19630705    0.40  0.09 -0.28  0.07 -0.30  0.012\n",
      "4  19630708   -0.63  0.07 -0.20 -0.27  0.06  0.012\n",
      "5  19630709    0.45  0.00  0.09  0.15 -0.01  0.012\n",
      "6  19630710   -0.18  0.20  0.00  0.05 -0.09  0.012\n",
      "7  19630711   -0.16  0.12 -0.29 -0.03  0.07  0.012\n",
      "8  19630712   -0.12  0.01 -0.09  0.09  0.08  0.012\n",
      "9  19630715   -0.62  0.07 -0.03  0.15 -0.10  0.012\n"
     ]
    }
   ],
   "source": [
    "ff = pd.read_csv('data/fama_french.csv')  #unit of columns is %\n",
    "print(ff.head(10))"
   ]
  },
  {
   "cell_type": "code",
   "execution_count": 7,
   "metadata": {},
   "outputs": [
    {
     "data": {
      "text/html": [
       "<div>\n",
       "<style scoped>\n",
       "    .dataframe tbody tr th:only-of-type {\n",
       "        vertical-align: middle;\n",
       "    }\n",
       "\n",
       "    .dataframe tbody tr th {\n",
       "        vertical-align: top;\n",
       "    }\n",
       "\n",
       "    .dataframe thead th {\n",
       "        text-align: right;\n",
       "    }\n",
       "</style>\n",
       "<table border=\"1\" class=\"dataframe\">\n",
       "  <thead>\n",
       "    <tr style=\"text-align: right;\">\n",
       "      <th></th>\n",
       "      <th>Date</th>\n",
       "      <th>Mkt-RF</th>\n",
       "      <th>SMB</th>\n",
       "      <th>HML</th>\n",
       "      <th>RMW</th>\n",
       "      <th>CMA</th>\n",
       "      <th>RF</th>\n",
       "    </tr>\n",
       "  </thead>\n",
       "  <tbody>\n",
       "    <tr>\n",
       "      <th>0</th>\n",
       "      <td>1963-07-01</td>\n",
       "      <td>-0.67</td>\n",
       "      <td>0.02</td>\n",
       "      <td>-0.35</td>\n",
       "      <td>0.03</td>\n",
       "      <td>0.13</td>\n",
       "      <td>0.012</td>\n",
       "    </tr>\n",
       "    <tr>\n",
       "      <th>1</th>\n",
       "      <td>1963-07-02</td>\n",
       "      <td>0.79</td>\n",
       "      <td>-0.28</td>\n",
       "      <td>0.28</td>\n",
       "      <td>-0.08</td>\n",
       "      <td>-0.21</td>\n",
       "      <td>0.012</td>\n",
       "    </tr>\n",
       "    <tr>\n",
       "      <th>2</th>\n",
       "      <td>1963-07-03</td>\n",
       "      <td>0.63</td>\n",
       "      <td>-0.18</td>\n",
       "      <td>-0.10</td>\n",
       "      <td>0.13</td>\n",
       "      <td>-0.25</td>\n",
       "      <td>0.012</td>\n",
       "    </tr>\n",
       "    <tr>\n",
       "      <th>3</th>\n",
       "      <td>1963-07-05</td>\n",
       "      <td>0.40</td>\n",
       "      <td>0.09</td>\n",
       "      <td>-0.28</td>\n",
       "      <td>0.07</td>\n",
       "      <td>-0.30</td>\n",
       "      <td>0.012</td>\n",
       "    </tr>\n",
       "    <tr>\n",
       "      <th>4</th>\n",
       "      <td>1963-07-08</td>\n",
       "      <td>-0.63</td>\n",
       "      <td>0.07</td>\n",
       "      <td>-0.20</td>\n",
       "      <td>-0.27</td>\n",
       "      <td>0.06</td>\n",
       "      <td>0.012</td>\n",
       "    </tr>\n",
       "  </tbody>\n",
       "</table>\n",
       "</div>"
      ],
      "text/plain": [
       "        Date  Mkt-RF   SMB   HML   RMW   CMA     RF\n",
       "0 1963-07-01   -0.67  0.02 -0.35  0.03  0.13  0.012\n",
       "1 1963-07-02    0.79 -0.28  0.28 -0.08 -0.21  0.012\n",
       "2 1963-07-03    0.63 -0.18 -0.10  0.13 -0.25  0.012\n",
       "3 1963-07-05    0.40  0.09 -0.28  0.07 -0.30  0.012\n",
       "4 1963-07-08   -0.63  0.07 -0.20 -0.27  0.06  0.012"
      ]
     },
     "execution_count": 7,
     "metadata": {},
     "output_type": "execute_result"
    }
   ],
   "source": [
    "#convert date to datetime\n",
    "ff['Date'] = pd.to_datetime(ff['Date'], format='%Y%m%d')\n",
    "\n",
    "ff.head()"
   ]
  },
  {
   "cell_type": "code",
   "execution_count": 8,
   "metadata": {},
   "outputs": [
    {
     "data": {
      "text/html": [
       "<div>\n",
       "<style scoped>\n",
       "    .dataframe tbody tr th:only-of-type {\n",
       "        vertical-align: middle;\n",
       "    }\n",
       "\n",
       "    .dataframe tbody tr th {\n",
       "        vertical-align: top;\n",
       "    }\n",
       "\n",
       "    .dataframe thead th {\n",
       "        text-align: right;\n",
       "    }\n",
       "</style>\n",
       "<table border=\"1\" class=\"dataframe\">\n",
       "  <thead>\n",
       "    <tr style=\"text-align: right;\">\n",
       "      <th></th>\n",
       "      <th>date</th>\n",
       "      <th>Mkt-RF</th>\n",
       "      <th>SMB</th>\n",
       "      <th>HML</th>\n",
       "      <th>RMW</th>\n",
       "      <th>CMA</th>\n",
       "      <th>RF</th>\n",
       "    </tr>\n",
       "  </thead>\n",
       "  <tbody>\n",
       "    <tr>\n",
       "      <th>0</th>\n",
       "      <td>1963-07-01</td>\n",
       "      <td>-0.67</td>\n",
       "      <td>0.02</td>\n",
       "      <td>-0.35</td>\n",
       "      <td>0.03</td>\n",
       "      <td>0.13</td>\n",
       "      <td>0.012</td>\n",
       "    </tr>\n",
       "    <tr>\n",
       "      <th>1</th>\n",
       "      <td>1963-07-02</td>\n",
       "      <td>0.79</td>\n",
       "      <td>-0.28</td>\n",
       "      <td>0.28</td>\n",
       "      <td>-0.08</td>\n",
       "      <td>-0.21</td>\n",
       "      <td>0.012</td>\n",
       "    </tr>\n",
       "    <tr>\n",
       "      <th>2</th>\n",
       "      <td>1963-07-03</td>\n",
       "      <td>0.63</td>\n",
       "      <td>-0.18</td>\n",
       "      <td>-0.10</td>\n",
       "      <td>0.13</td>\n",
       "      <td>-0.25</td>\n",
       "      <td>0.012</td>\n",
       "    </tr>\n",
       "    <tr>\n",
       "      <th>3</th>\n",
       "      <td>1963-07-05</td>\n",
       "      <td>0.40</td>\n",
       "      <td>0.09</td>\n",
       "      <td>-0.28</td>\n",
       "      <td>0.07</td>\n",
       "      <td>-0.30</td>\n",
       "      <td>0.012</td>\n",
       "    </tr>\n",
       "    <tr>\n",
       "      <th>4</th>\n",
       "      <td>1963-07-08</td>\n",
       "      <td>-0.63</td>\n",
       "      <td>0.07</td>\n",
       "      <td>-0.20</td>\n",
       "      <td>-0.27</td>\n",
       "      <td>0.06</td>\n",
       "      <td>0.012</td>\n",
       "    </tr>\n",
       "  </tbody>\n",
       "</table>\n",
       "</div>"
      ],
      "text/plain": [
       "        date  Mkt-RF   SMB   HML   RMW   CMA     RF\n",
       "0 1963-07-01   -0.67  0.02 -0.35  0.03  0.13  0.012\n",
       "1 1963-07-02    0.79 -0.28  0.28 -0.08 -0.21  0.012\n",
       "2 1963-07-03    0.63 -0.18 -0.10  0.13 -0.25  0.012\n",
       "3 1963-07-05    0.40  0.09 -0.28  0.07 -0.30  0.012\n",
       "4 1963-07-08   -0.63  0.07 -0.20 -0.27  0.06  0.012"
      ]
     },
     "execution_count": 8,
     "metadata": {},
     "output_type": "execute_result"
    }
   ],
   "source": [
    "#only lower case column \"Date\"\n",
    "all_cols = ff.columns\n",
    "new_cols = [\"date\"] + list(all_cols[1:])\n",
    "ff.columns = new_cols\n",
    "ff.head()"
   ]
  },
  {
   "cell_type": "code",
   "execution_count": 9,
   "metadata": {},
   "outputs": [],
   "source": [
    "ff.to_csv('data/formatted_datasets/fama_french.csv')"
   ]
  },
  {
   "cell_type": "markdown",
   "metadata": {},
   "source": [
    "## ADS Index"
   ]
  },
  {
   "cell_type": "markdown",
   "metadata": {},
   "source": [
    "The **average value of the ADS index is zero**, A value of zero indicates average economic conditions, meaning the economy is performing as expected without significant deviations. Values greater than zero represent better-than-average economic conditions. Conversely, values below zero indicate worse-than-average conditions."
   ]
  },
  {
   "cell_type": "code",
   "execution_count": 10,
   "metadata": {},
   "outputs": [
    {
     "data": {
      "text/html": [
       "<div>\n",
       "<style scoped>\n",
       "    .dataframe tbody tr th:only-of-type {\n",
       "        vertical-align: middle;\n",
       "    }\n",
       "\n",
       "    .dataframe tbody tr th {\n",
       "        vertical-align: top;\n",
       "    }\n",
       "\n",
       "    .dataframe thead th {\n",
       "        text-align: right;\n",
       "    }\n",
       "</style>\n",
       "<table border=\"1\" class=\"dataframe\">\n",
       "  <thead>\n",
       "    <tr style=\"text-align: right;\">\n",
       "      <th></th>\n",
       "      <th>Date</th>\n",
       "      <th>ADS_Index</th>\n",
       "    </tr>\n",
       "  </thead>\n",
       "  <tbody>\n",
       "    <tr>\n",
       "      <th>0</th>\n",
       "      <td>1960:03:01</td>\n",
       "      <td>-0.578899</td>\n",
       "    </tr>\n",
       "    <tr>\n",
       "      <th>1</th>\n",
       "      <td>1960:03:02</td>\n",
       "      <td>-0.627759</td>\n",
       "    </tr>\n",
       "    <tr>\n",
       "      <th>2</th>\n",
       "      <td>1960:03:03</td>\n",
       "      <td>-0.673502</td>\n",
       "    </tr>\n",
       "    <tr>\n",
       "      <th>3</th>\n",
       "      <td>1960:03:04</td>\n",
       "      <td>-0.716147</td>\n",
       "    </tr>\n",
       "    <tr>\n",
       "      <th>4</th>\n",
       "      <td>1960:03:05</td>\n",
       "      <td>-0.755708</td>\n",
       "    </tr>\n",
       "  </tbody>\n",
       "</table>\n",
       "</div>"
      ],
      "text/plain": [
       "         Date  ADS_Index\n",
       "0  1960:03:01  -0.578899\n",
       "1  1960:03:02  -0.627759\n",
       "2  1960:03:03  -0.673502\n",
       "3  1960:03:04  -0.716147\n",
       "4  1960:03:05  -0.755708"
      ]
     },
     "execution_count": 10,
     "metadata": {},
     "output_type": "execute_result"
    }
   ],
   "source": [
    "ads = pd.read_csv('data/ADS_index.csv')\n",
    "ads.head()\n"
   ]
  },
  {
   "cell_type": "code",
   "execution_count": 11,
   "metadata": {},
   "outputs": [
    {
     "data": {
      "text/html": [
       "<div>\n",
       "<style scoped>\n",
       "    .dataframe tbody tr th:only-of-type {\n",
       "        vertical-align: middle;\n",
       "    }\n",
       "\n",
       "    .dataframe tbody tr th {\n",
       "        vertical-align: top;\n",
       "    }\n",
       "\n",
       "    .dataframe thead th {\n",
       "        text-align: right;\n",
       "    }\n",
       "</style>\n",
       "<table border=\"1\" class=\"dataframe\">\n",
       "  <thead>\n",
       "    <tr style=\"text-align: right;\">\n",
       "      <th></th>\n",
       "      <th>date</th>\n",
       "      <th>ads_index</th>\n",
       "    </tr>\n",
       "  </thead>\n",
       "  <tbody>\n",
       "    <tr>\n",
       "      <th>0</th>\n",
       "      <td>1960:03:01</td>\n",
       "      <td>-0.578899</td>\n",
       "    </tr>\n",
       "    <tr>\n",
       "      <th>1</th>\n",
       "      <td>1960:03:02</td>\n",
       "      <td>-0.627759</td>\n",
       "    </tr>\n",
       "    <tr>\n",
       "      <th>2</th>\n",
       "      <td>1960:03:03</td>\n",
       "      <td>-0.673502</td>\n",
       "    </tr>\n",
       "    <tr>\n",
       "      <th>3</th>\n",
       "      <td>1960:03:04</td>\n",
       "      <td>-0.716147</td>\n",
       "    </tr>\n",
       "    <tr>\n",
       "      <th>4</th>\n",
       "      <td>1960:03:05</td>\n",
       "      <td>-0.755708</td>\n",
       "    </tr>\n",
       "  </tbody>\n",
       "</table>\n",
       "</div>"
      ],
      "text/plain": [
       "         date  ads_index\n",
       "0  1960:03:01  -0.578899\n",
       "1  1960:03:02  -0.627759\n",
       "2  1960:03:03  -0.673502\n",
       "3  1960:03:04  -0.716147\n",
       "4  1960:03:05  -0.755708"
      ]
     },
     "execution_count": 11,
     "metadata": {},
     "output_type": "execute_result"
    }
   ],
   "source": [
    "#change the first column name to \"date\"\n",
    "ads.columns = [\"date\", \"ads_index\"]\n",
    "ads.head()"
   ]
  },
  {
   "cell_type": "code",
   "execution_count": 12,
   "metadata": {},
   "outputs": [
    {
     "data": {
      "text/plain": [
       "date          object\n",
       "ads_index    float64\n",
       "dtype: object"
      ]
     },
     "execution_count": 12,
     "metadata": {},
     "output_type": "execute_result"
    }
   ],
   "source": [
    "ads.dtypes"
   ]
  },
  {
   "cell_type": "code",
   "execution_count": 13,
   "metadata": {},
   "outputs": [
    {
     "data": {
      "text/html": [
       "<div>\n",
       "<style scoped>\n",
       "    .dataframe tbody tr th:only-of-type {\n",
       "        vertical-align: middle;\n",
       "    }\n",
       "\n",
       "    .dataframe tbody tr th {\n",
       "        vertical-align: top;\n",
       "    }\n",
       "\n",
       "    .dataframe thead th {\n",
       "        text-align: right;\n",
       "    }\n",
       "</style>\n",
       "<table border=\"1\" class=\"dataframe\">\n",
       "  <thead>\n",
       "    <tr style=\"text-align: right;\">\n",
       "      <th></th>\n",
       "      <th>date</th>\n",
       "      <th>ads_index</th>\n",
       "    </tr>\n",
       "  </thead>\n",
       "  <tbody>\n",
       "    <tr>\n",
       "      <th>0</th>\n",
       "      <td>1960-03-01</td>\n",
       "      <td>-0.578899</td>\n",
       "    </tr>\n",
       "    <tr>\n",
       "      <th>1</th>\n",
       "      <td>1960-03-02</td>\n",
       "      <td>-0.627759</td>\n",
       "    </tr>\n",
       "    <tr>\n",
       "      <th>2</th>\n",
       "      <td>1960-03-03</td>\n",
       "      <td>-0.673502</td>\n",
       "    </tr>\n",
       "    <tr>\n",
       "      <th>3</th>\n",
       "      <td>1960-03-04</td>\n",
       "      <td>-0.716147</td>\n",
       "    </tr>\n",
       "    <tr>\n",
       "      <th>4</th>\n",
       "      <td>1960-03-05</td>\n",
       "      <td>-0.755708</td>\n",
       "    </tr>\n",
       "  </tbody>\n",
       "</table>\n",
       "</div>"
      ],
      "text/plain": [
       "        date  ads_index\n",
       "0 1960-03-01  -0.578899\n",
       "1 1960-03-02  -0.627759\n",
       "2 1960-03-03  -0.673502\n",
       "3 1960-03-04  -0.716147\n",
       "4 1960-03-05  -0.755708"
      ]
     },
     "execution_count": 13,
     "metadata": {},
     "output_type": "execute_result"
    }
   ],
   "source": [
    "# change : to - in date column\n",
    "ads[\"date\"] = ads[\"date\"].str.replace(\":\", \"-\")\n",
    "ads[\"date\"] = pd.to_datetime(ads[\"date\"], format='%Y-%m-%d')\n",
    "ads.head()"
   ]
  },
  {
   "cell_type": "code",
   "execution_count": 14,
   "metadata": {},
   "outputs": [],
   "source": [
    "#save to csv\n",
    "ads.to_csv('data/formatted_datasets/ads_index.csv')"
   ]
  },
  {
   "cell_type": "markdown",
   "metadata": {},
   "source": [
    "## SP500"
   ]
  },
  {
   "cell_type": "code",
   "execution_count": 15,
   "metadata": {},
   "outputs": [
    {
     "data": {
      "text/plain": [
       "2014-10-27    1961.63\n",
       "2014-10-28    1985.05\n",
       "2014-10-29    1982.30\n",
       "2014-10-30    1994.65\n",
       "2014-10-31    2018.05\n",
       "dtype: float64"
      ]
     },
     "execution_count": 15,
     "metadata": {},
     "output_type": "execute_result"
    }
   ],
   "source": [
    "api_key = '74a4c86d8f52f8875f7e465e42f8e5de'\n",
    "\n",
    "fred = Fred(api_key=api_key)\n",
    "data = fred.get_series('SP500')\n",
    "data.head()"
   ]
  },
  {
   "cell_type": "code",
   "execution_count": 16,
   "metadata": {},
   "outputs": [
    {
     "name": "stdout",
     "output_type": "stream",
     "text": [
      "        date    value\n",
      "0 2014-10-27  1961.63\n",
      "1 2014-10-28  1985.05\n",
      "2 2014-10-29  1982.30\n",
      "3 2014-10-30  1994.65\n",
      "4 2014-10-31  2018.05\n",
      "(2605, 2)\n"
     ]
    }
   ],
   "source": [
    "# Define the FRED API endpoint\n",
    "base_url = 'https://api.stlouisfed.org/fred/'\n",
    "\n",
    "'''\n",
    "Get observation data from the FRED API\n",
    "'''\n",
    "\n",
    "# Assign endpoint\n",
    "obs_endpoint = 'series/observations'\n",
    "\n",
    "# Assign parameters\n",
    "series_id_list = ['SP500']\n",
    "start_date = '1990-01-01'\n",
    "end_date = '2024-10-18'\n",
    "ts_frequency = 'd'\n",
    "ts_units = 'pc1'\n",
    "\n",
    "df = pd.DataFrame()\n",
    "\n",
    "for series_id in series_id_list:\n",
    "    obs_params = {\n",
    "        'series_id': series_id,\n",
    "        'api_key': api_key,\n",
    "        'file_type': 'json',\n",
    "        'observation_start': start_date,\n",
    "        'observation_end': end_date,\n",
    "        # 'frequency': ts_frequency\n",
    "        # 'units': ts_units\n",
    "    }\n",
    "\n",
    "    # Make request to FRED API\n",
    "    response = requests.get(base_url + obs_endpoint, params=obs_params)\n",
    "\n",
    "    # Format data\n",
    "    if response.status_code == 200:\n",
    "        res_data = response.json()\n",
    "        obs_data = pd.DataFrame(res_data['observations']) \n",
    "        obs_data = obs_data[['date', 'value']]\n",
    "        obs_data['date'] = pd.to_datetime(obs_data['date'])\n",
    "        obs_data['value'] = pd.to_numeric(obs_data['value'], errors='coerce')\n",
    "        df = pd.concat([df, obs_data], axis=1)\n",
    "    else:\n",
    "        print('Failed to retrieve data. Status code:', response.status_code)\n",
    "print(df.head())\n",
    "print(df.shape)\n"
   ]
  },
  {
   "cell_type": "code",
   "execution_count": 17,
   "metadata": {},
   "outputs": [],
   "source": [
    "df.rename(columns={'value': 'SP500'}, inplace=True)"
   ]
  },
  {
   "cell_type": "code",
   "execution_count": 18,
   "metadata": {},
   "outputs": [],
   "source": [
    "#save to csv\n",
    "df.to_csv('data/formatted_datasets/sp500.csv')"
   ]
  },
  {
   "cell_type": "markdown",
   "metadata": {},
   "source": [
    "## FRED"
   ]
  },
  {
   "cell_type": "code",
   "execution_count": 19,
   "metadata": {},
   "outputs": [
    {
     "data": {
      "text/plain": [
       "['data/fred_variables/DGS10.csv',\n",
       " 'data/fred_variables/RIFSPPFAAD90NB.csv',\n",
       " 'data/fred_variables/DGS1.csv',\n",
       " 'data/fred_variables/CBETHUSD.csv',\n",
       " 'data/fred_variables/DBAA.csv',\n",
       " 'data/fred_variables/USRECDP.csv',\n",
       " 'data/fred_variables/USRECD.csv',\n",
       " 'data/fred_variables/DCPN3M.csv',\n",
       " 'data/fred_variables/DCPF1M.csv',\n",
       " 'data/fred_variables/DAAA.csv',\n",
       " 'data/fred_variables/T10Y3M.csv',\n",
       " 'data/fred_variables/BAMLH0A0HYM2.csv',\n",
       " 'data/fred_variables/T10YIE.csv',\n",
       " 'data/fred_variables/DHHNGSP.csv',\n",
       " 'data/fred_variables/AMERIBOR.csv',\n",
       " 'data/fred_variables/USRECDM.csv',\n",
       " 'data/fred_variables/CBBTCUSD.csv',\n",
       " 'data/fred_variables/DEXUSUK.csv',\n",
       " 'data/fred_variables/DCOILWTICO.csv',\n",
       " 'data/fred_variables/VIXCLS.csv',\n",
       " 'data/fred_variables/DEXJPUS.csv',\n",
       " 'data/fred_variables/DEXUSEU.csv',\n",
       " 'data/fred_variables/T5YIE.csv',\n",
       " 'data/fred_variables/OBMMIJUMBO30YF.csv',\n",
       " 'data/fred_variables/NIKKEI225.csv',\n",
       " 'data/fred_variables/BAMLH0A0HYM2EY.csv',\n",
       " 'data/fred_variables/DCOILBRENTEU.csv']"
      ]
     },
     "execution_count": 19,
     "metadata": {},
     "output_type": "execute_result"
    }
   ],
   "source": [
    "#read all the files in the directory data/fred_variables\n",
    "files = glob.glob('data/fred_variables/*.csv')\n",
    "files"
   ]
  },
  {
   "cell_type": "code",
   "execution_count": 20,
   "metadata": {},
   "outputs": [
    {
     "name": "stdout",
     "output_type": "stream",
     "text": [
      "             DATE DGS10 RIFSPPFAAD90NB  DGS1 CBETHUSD  DBAA  USRECDP  USRECD  \\\n",
      "17265  1854-12-01   NaN            NaN   NaN      NaN   NaN      0.0     1.0   \n",
      "17266  1854-12-02   NaN            NaN   NaN      NaN   NaN      0.0     1.0   \n",
      "17267  1854-12-03   NaN            NaN   NaN      NaN   NaN      0.0     1.0   \n",
      "17268  1854-12-04   NaN            NaN   NaN      NaN   NaN      0.0     1.0   \n",
      "17269  1854-12-05   NaN            NaN   NaN      NaN   NaN      0.0     1.0   \n",
      "...           ...   ...            ...   ...      ...   ...      ...     ...   \n",
      "16383  2024-10-18  4.08            NaN  4.19  2647.97  5.61      0.0     0.0   \n",
      "17262  2024-10-19   NaN            NaN   NaN  2746.22   NaN      0.0     0.0   \n",
      "17263  2024-10-20   NaN            NaN   NaN  2665.35   NaN      0.0     0.0   \n",
      "17264  2024-10-21   NaN            NaN   NaN  2667.59  5.73      NaN     NaN   \n",
      "62052  2024-10-22   NaN            NaN   NaN      NaN   NaN      NaN     NaN   \n",
      "\n",
      "      DCPN3M DCPF1M  ... DEXUSUK DCOILWTICO VIXCLS DEXJPUS DEXUSEU T5YIE  \\\n",
      "17265    NaN    NaN  ...     NaN        NaN    NaN     NaN     NaN   NaN   \n",
      "17266    NaN    NaN  ...     NaN        NaN    NaN     NaN     NaN   NaN   \n",
      "17267    NaN    NaN  ...     NaN        NaN    NaN     NaN     NaN   NaN   \n",
      "17268    NaN    NaN  ...     NaN        NaN    NaN     NaN     NaN   NaN   \n",
      "17269    NaN    NaN  ...     NaN        NaN    NaN     NaN     NaN   NaN   \n",
      "...      ...    ...  ...     ...        ...    ...     ...     ...   ...   \n",
      "16383   4.49    NaN  ...  1.3022        NaN  18.03  149.58  1.0854  2.23   \n",
      "17262    NaN    NaN  ...     NaN        NaN    NaN     NaN     NaN   NaN   \n",
      "17263    NaN    NaN  ...     NaN        NaN    NaN     NaN     NaN   NaN   \n",
      "17264    NaN    NaN  ...     NaN        NaN  18.37     NaN     NaN  2.23   \n",
      "62052    NaN    NaN  ...     NaN        NaN    NaN     NaN     NaN   NaN   \n",
      "\n",
      "       OBMMIJUMBO30YF NIKKEI225 BAMLH0A0HYM2EY DCOILBRENTEU  \n",
      "17265             NaN       NaN            NaN          NaN  \n",
      "17266             NaN       NaN            NaN          NaN  \n",
      "17267             NaN       NaN            NaN          NaN  \n",
      "17268             NaN       NaN            NaN          NaN  \n",
      "17269             NaN       NaN            NaN          NaN  \n",
      "...               ...       ...            ...          ...  \n",
      "16383           6.879  38981.75           6.79          NaN  \n",
      "17262             NaN       NaN            NaN          NaN  \n",
      "17263             NaN       NaN            NaN          NaN  \n",
      "17264           6.763   38954.6           6.88          NaN  \n",
      "62052             NaN  38411.96            NaN          NaN  \n",
      "\n",
      "[62053 rows x 28 columns]\n"
     ]
    }
   ],
   "source": [
    "res = pd.read_csv(files[0])\n",
    "res['DATE'] = pd.to_datetime(res['DATE'], format='%Y-%m-%d')\n",
    "for file in files[1:]:\n",
    "    #convert DATE to date\n",
    "    df = pd.read_csv(file)\n",
    "    df['DATE'] = pd.to_datetime(df['DATE'], format='%Y-%m-%d')\n",
    "    res = pd.merge(res, df, on='DATE', how='outer')\n",
    "res = res.sort_values('DATE')\n",
    "res[\"DATE\"] = res[\"DATE\"].dt.strftime('%Y-%m-%d')\n",
    "print(res)"
   ]
  },
  {
   "cell_type": "code",
   "execution_count": 21,
   "metadata": {},
   "outputs": [
    {
     "data": {
      "text/html": [
       "<div>\n",
       "<style scoped>\n",
       "    .dataframe tbody tr th:only-of-type {\n",
       "        vertical-align: middle;\n",
       "    }\n",
       "\n",
       "    .dataframe tbody tr th {\n",
       "        vertical-align: top;\n",
       "    }\n",
       "\n",
       "    .dataframe thead th {\n",
       "        text-align: right;\n",
       "    }\n",
       "</style>\n",
       "<table border=\"1\" class=\"dataframe\">\n",
       "  <thead>\n",
       "    <tr style=\"text-align: right;\">\n",
       "      <th></th>\n",
       "      <th>date</th>\n",
       "      <th>DGS10</th>\n",
       "      <th>RIFSPPFAAD90NB</th>\n",
       "      <th>DGS1</th>\n",
       "      <th>CBETHUSD</th>\n",
       "      <th>DBAA</th>\n",
       "      <th>USRECDP</th>\n",
       "      <th>USRECD</th>\n",
       "      <th>DCPN3M</th>\n",
       "      <th>DCPF1M</th>\n",
       "      <th>...</th>\n",
       "      <th>DEXUSUK</th>\n",
       "      <th>DCOILWTICO</th>\n",
       "      <th>VIXCLS</th>\n",
       "      <th>DEXJPUS</th>\n",
       "      <th>DEXUSEU</th>\n",
       "      <th>T5YIE</th>\n",
       "      <th>OBMMIJUMBO30YF</th>\n",
       "      <th>NIKKEI225</th>\n",
       "      <th>BAMLH0A0HYM2EY</th>\n",
       "      <th>DCOILBRENTEU</th>\n",
       "    </tr>\n",
       "  </thead>\n",
       "  <tbody>\n",
       "    <tr>\n",
       "      <th>17265</th>\n",
       "      <td>1854-12-01</td>\n",
       "      <td>NaN</td>\n",
       "      <td>NaN</td>\n",
       "      <td>NaN</td>\n",
       "      <td>NaN</td>\n",
       "      <td>NaN</td>\n",
       "      <td>0.0</td>\n",
       "      <td>1.0</td>\n",
       "      <td>NaN</td>\n",
       "      <td>NaN</td>\n",
       "      <td>...</td>\n",
       "      <td>NaN</td>\n",
       "      <td>NaN</td>\n",
       "      <td>NaN</td>\n",
       "      <td>NaN</td>\n",
       "      <td>NaN</td>\n",
       "      <td>NaN</td>\n",
       "      <td>NaN</td>\n",
       "      <td>NaN</td>\n",
       "      <td>NaN</td>\n",
       "      <td>NaN</td>\n",
       "    </tr>\n",
       "    <tr>\n",
       "      <th>17266</th>\n",
       "      <td>1854-12-02</td>\n",
       "      <td>NaN</td>\n",
       "      <td>NaN</td>\n",
       "      <td>NaN</td>\n",
       "      <td>NaN</td>\n",
       "      <td>NaN</td>\n",
       "      <td>0.0</td>\n",
       "      <td>1.0</td>\n",
       "      <td>NaN</td>\n",
       "      <td>NaN</td>\n",
       "      <td>...</td>\n",
       "      <td>NaN</td>\n",
       "      <td>NaN</td>\n",
       "      <td>NaN</td>\n",
       "      <td>NaN</td>\n",
       "      <td>NaN</td>\n",
       "      <td>NaN</td>\n",
       "      <td>NaN</td>\n",
       "      <td>NaN</td>\n",
       "      <td>NaN</td>\n",
       "      <td>NaN</td>\n",
       "    </tr>\n",
       "    <tr>\n",
       "      <th>17267</th>\n",
       "      <td>1854-12-03</td>\n",
       "      <td>NaN</td>\n",
       "      <td>NaN</td>\n",
       "      <td>NaN</td>\n",
       "      <td>NaN</td>\n",
       "      <td>NaN</td>\n",
       "      <td>0.0</td>\n",
       "      <td>1.0</td>\n",
       "      <td>NaN</td>\n",
       "      <td>NaN</td>\n",
       "      <td>...</td>\n",
       "      <td>NaN</td>\n",
       "      <td>NaN</td>\n",
       "      <td>NaN</td>\n",
       "      <td>NaN</td>\n",
       "      <td>NaN</td>\n",
       "      <td>NaN</td>\n",
       "      <td>NaN</td>\n",
       "      <td>NaN</td>\n",
       "      <td>NaN</td>\n",
       "      <td>NaN</td>\n",
       "    </tr>\n",
       "    <tr>\n",
       "      <th>17268</th>\n",
       "      <td>1854-12-04</td>\n",
       "      <td>NaN</td>\n",
       "      <td>NaN</td>\n",
       "      <td>NaN</td>\n",
       "      <td>NaN</td>\n",
       "      <td>NaN</td>\n",
       "      <td>0.0</td>\n",
       "      <td>1.0</td>\n",
       "      <td>NaN</td>\n",
       "      <td>NaN</td>\n",
       "      <td>...</td>\n",
       "      <td>NaN</td>\n",
       "      <td>NaN</td>\n",
       "      <td>NaN</td>\n",
       "      <td>NaN</td>\n",
       "      <td>NaN</td>\n",
       "      <td>NaN</td>\n",
       "      <td>NaN</td>\n",
       "      <td>NaN</td>\n",
       "      <td>NaN</td>\n",
       "      <td>NaN</td>\n",
       "    </tr>\n",
       "    <tr>\n",
       "      <th>17269</th>\n",
       "      <td>1854-12-05</td>\n",
       "      <td>NaN</td>\n",
       "      <td>NaN</td>\n",
       "      <td>NaN</td>\n",
       "      <td>NaN</td>\n",
       "      <td>NaN</td>\n",
       "      <td>0.0</td>\n",
       "      <td>1.0</td>\n",
       "      <td>NaN</td>\n",
       "      <td>NaN</td>\n",
       "      <td>...</td>\n",
       "      <td>NaN</td>\n",
       "      <td>NaN</td>\n",
       "      <td>NaN</td>\n",
       "      <td>NaN</td>\n",
       "      <td>NaN</td>\n",
       "      <td>NaN</td>\n",
       "      <td>NaN</td>\n",
       "      <td>NaN</td>\n",
       "      <td>NaN</td>\n",
       "      <td>NaN</td>\n",
       "    </tr>\n",
       "  </tbody>\n",
       "</table>\n",
       "<p>5 rows × 28 columns</p>\n",
       "</div>"
      ],
      "text/plain": [
       "             date DGS10 RIFSPPFAAD90NB DGS1 CBETHUSD DBAA  USRECDP  USRECD  \\\n",
       "17265  1854-12-01   NaN            NaN  NaN      NaN  NaN      0.0     1.0   \n",
       "17266  1854-12-02   NaN            NaN  NaN      NaN  NaN      0.0     1.0   \n",
       "17267  1854-12-03   NaN            NaN  NaN      NaN  NaN      0.0     1.0   \n",
       "17268  1854-12-04   NaN            NaN  NaN      NaN  NaN      0.0     1.0   \n",
       "17269  1854-12-05   NaN            NaN  NaN      NaN  NaN      0.0     1.0   \n",
       "\n",
       "      DCPN3M DCPF1M  ... DEXUSUK DCOILWTICO VIXCLS DEXJPUS DEXUSEU T5YIE  \\\n",
       "17265    NaN    NaN  ...     NaN        NaN    NaN     NaN     NaN   NaN   \n",
       "17266    NaN    NaN  ...     NaN        NaN    NaN     NaN     NaN   NaN   \n",
       "17267    NaN    NaN  ...     NaN        NaN    NaN     NaN     NaN   NaN   \n",
       "17268    NaN    NaN  ...     NaN        NaN    NaN     NaN     NaN   NaN   \n",
       "17269    NaN    NaN  ...     NaN        NaN    NaN     NaN     NaN   NaN   \n",
       "\n",
       "       OBMMIJUMBO30YF NIKKEI225 BAMLH0A0HYM2EY DCOILBRENTEU  \n",
       "17265             NaN       NaN            NaN          NaN  \n",
       "17266             NaN       NaN            NaN          NaN  \n",
       "17267             NaN       NaN            NaN          NaN  \n",
       "17268             NaN       NaN            NaN          NaN  \n",
       "17269             NaN       NaN            NaN          NaN  \n",
       "\n",
       "[5 rows x 28 columns]"
      ]
     },
     "execution_count": 21,
     "metadata": {},
     "output_type": "execute_result"
    }
   ],
   "source": [
    "#only lower case column \"Date\"\n",
    "all_cols = res.columns\n",
    "new_cols = [\"date\"] + list(all_cols[1:])\n",
    "res.columns = new_cols\n",
    "res.head()"
   ]
  },
  {
   "cell_type": "code",
   "execution_count": 22,
   "metadata": {},
   "outputs": [],
   "source": [
    "res.to_csv('data/formatted_datasets/fred_variables.csv', index=False)"
   ]
  },
  {
   "cell_type": "markdown",
   "metadata": {},
   "source": [
    "# Merge all the datasets"
   ]
  },
  {
   "cell_type": "code",
   "execution_count": 23,
   "metadata": {},
   "outputs": [
    {
     "data": {
      "text/plain": [
       "['data/formatted_datasets/fama_french.csv',\n",
       " 'data/formatted_datasets/fred_variables.csv',\n",
       " 'data/formatted_datasets/ads_index.csv',\n",
       " 'data/formatted_datasets/historical_data.csv',\n",
       " 'data/formatted_datasets/sp500.csv']"
      ]
     },
     "execution_count": 23,
     "metadata": {},
     "output_type": "execute_result"
    }
   ],
   "source": [
    "files = glob.glob('data/formatted_datasets/*.csv')\n",
    "files"
   ]
  },
  {
   "cell_type": "code",
   "execution_count": 24,
   "metadata": {},
   "outputs": [
    {
     "data": {
      "text/html": [
       "<div>\n",
       "<style scoped>\n",
       "    .dataframe tbody tr th:only-of-type {\n",
       "        vertical-align: middle;\n",
       "    }\n",
       "\n",
       "    .dataframe tbody tr th {\n",
       "        vertical-align: top;\n",
       "    }\n",
       "\n",
       "    .dataframe thead th {\n",
       "        text-align: right;\n",
       "    }\n",
       "</style>\n",
       "<table border=\"1\" class=\"dataframe\">\n",
       "  <thead>\n",
       "    <tr style=\"text-align: right;\">\n",
       "      <th></th>\n",
       "      <th>Unnamed: 0</th>\n",
       "      <th>date</th>\n",
       "      <th>Mkt-RF</th>\n",
       "      <th>SMB</th>\n",
       "      <th>HML</th>\n",
       "      <th>RMW</th>\n",
       "      <th>CMA</th>\n",
       "      <th>RF</th>\n",
       "    </tr>\n",
       "  </thead>\n",
       "  <tbody>\n",
       "    <tr>\n",
       "      <th>0</th>\n",
       "      <td>0</td>\n",
       "      <td>1963-07-01</td>\n",
       "      <td>-0.67</td>\n",
       "      <td>0.02</td>\n",
       "      <td>-0.35</td>\n",
       "      <td>0.03</td>\n",
       "      <td>0.13</td>\n",
       "      <td>0.012</td>\n",
       "    </tr>\n",
       "    <tr>\n",
       "      <th>1</th>\n",
       "      <td>1</td>\n",
       "      <td>1963-07-02</td>\n",
       "      <td>0.79</td>\n",
       "      <td>-0.28</td>\n",
       "      <td>0.28</td>\n",
       "      <td>-0.08</td>\n",
       "      <td>-0.21</td>\n",
       "      <td>0.012</td>\n",
       "    </tr>\n",
       "  </tbody>\n",
       "</table>\n",
       "</div>"
      ],
      "text/plain": [
       "   Unnamed: 0        date  Mkt-RF   SMB   HML   RMW   CMA     RF\n",
       "0           0  1963-07-01   -0.67  0.02 -0.35  0.03  0.13  0.012\n",
       "1           1  1963-07-02    0.79 -0.28  0.28 -0.08 -0.21  0.012"
      ]
     },
     "execution_count": 24,
     "metadata": {},
     "output_type": "execute_result"
    }
   ],
   "source": [
    "res = pd.read_csv(files[0])\n",
    "res.head(2)"
   ]
  },
  {
   "cell_type": "code",
   "execution_count": 25,
   "metadata": {},
   "outputs": [
    {
     "name": "stderr",
     "output_type": "stream",
     "text": [
      "/var/folders/24/k3t__8rn5j7f10302wn8dh240000gn/T/ipykernel_44244/2242375558.py:5: DtypeWarning: Columns (1,2,3,4,5,8,9,10,11,12,13,14,15,17,18,19,20,21,22,23,24,25,26,27) have mixed types. Specify dtype option on import or set low_memory=False.\n",
      "  df = pd.read_csv(file)\n"
     ]
    },
    {
     "name": "stdout",
     "output_type": "stream",
     "text": [
      "      Unnamed: 0_x        date  Mkt-RF  SMB  HML  RMW  CMA  RF DGS10  \\\n",
      "15397          NaN  1854-12-01     NaN  NaN  NaN  NaN  NaN NaN   NaN   \n",
      "15398          NaN  1854-12-02     NaN  NaN  NaN  NaN  NaN NaN   NaN   \n",
      "15399          NaN  1854-12-03     NaN  NaN  NaN  NaN  NaN NaN   NaN   \n",
      "15400          NaN  1854-12-04     NaN  NaN  NaN  NaN  NaN NaN   NaN   \n",
      "15401          NaN  1854-12-05     NaN  NaN  NaN  NaN  NaN NaN   NaN   \n",
      "...            ...         ...     ...  ...  ...  ...  ...  ..   ...   \n",
      "62051          NaN  2024-10-21     NaN  NaN  NaN  NaN  NaN NaN   NaN   \n",
      "62052          NaN  2024-10-22     NaN  NaN  NaN  NaN  NaN NaN   NaN   \n",
      "62053          NaN  2024-10-23     NaN  NaN  NaN  NaN  NaN NaN   NaN   \n",
      "62054          NaN  2024-10-24     NaN  NaN  NaN  NaN  NaN NaN   NaN   \n",
      "62055          NaN  2024-10-25     NaN  NaN  NaN  NaN  NaN NaN   NaN   \n",
      "\n",
      "      RIFSPPFAAD90NB  ... Unnamed: 0_x        open        high         low  \\\n",
      "15397            NaN  ...          NaN         NaN         NaN         NaN   \n",
      "15398            NaN  ...          NaN         NaN         NaN         NaN   \n",
      "15399            NaN  ...          NaN         NaN         NaN         NaN   \n",
      "15400            NaN  ...          NaN         NaN         NaN         NaN   \n",
      "15401            NaN  ...          NaN         NaN         NaN         NaN   \n",
      "...              ...  ...          ...         ...         ...         ...   \n",
      "62051            NaN  ...       1253.0  234.449997  236.850006  234.449997   \n",
      "62052            NaN  ...       1254.0  233.889999  236.220001  232.600006   \n",
      "62053            NaN  ...       1255.0  234.080002  235.139999  227.759995   \n",
      "62054            NaN  ...       1256.0  229.979996  230.820007  228.410004   \n",
      "62055            NaN  ...       1257.0  229.740005  233.220001  229.570007   \n",
      "\n",
      "            close      volume dividends stock_splits Unnamed: 0_y SP500  \n",
      "15397         NaN         NaN       NaN          NaN          NaN   NaN  \n",
      "15398         NaN         NaN       NaN          NaN          NaN   NaN  \n",
      "15399         NaN         NaN       NaN          NaN          NaN   NaN  \n",
      "15400         NaN         NaN       NaN          NaN          NaN   NaN  \n",
      "15401         NaN         NaN       NaN          NaN          NaN   NaN  \n",
      "...           ...         ...       ...          ...          ...   ...  \n",
      "62051  236.479996  36254500.0       0.0          0.0          NaN   NaN  \n",
      "62052  235.860001  38846600.0       0.0          0.0          NaN   NaN  \n",
      "62053  230.759995  52287000.0       0.0          0.0          NaN   NaN  \n",
      "62054  230.570007  31109500.0       0.0          0.0          NaN   NaN  \n",
      "62055  231.410004  38776700.0       0.0          0.0          NaN   NaN  \n",
      "\n",
      "[62056 rows x 47 columns]\n"
     ]
    },
    {
     "name": "stderr",
     "output_type": "stream",
     "text": [
      "/var/folders/24/k3t__8rn5j7f10302wn8dh240000gn/T/ipykernel_44244/2242375558.py:7: FutureWarning: Passing 'suffixes' which cause duplicate columns {'Unnamed: 0_x'} in the result is deprecated and will raise a MergeError in a future version.\n",
      "  res = pd.merge(res, df, on='date', how='outer')\n"
     ]
    }
   ],
   "source": [
    "res = pd.read_csv(files[0])\n",
    "res['date'] = pd.to_datetime(res['date'], format='%Y-%m-%d')\n",
    "for file in files[1:]:\n",
    "    #convert DATE to date\n",
    "    df = pd.read_csv(file)\n",
    "    df['date'] = pd.to_datetime(df['date'], format='%Y-%m-%d')\n",
    "    res = pd.merge(res, df, on='date', how='outer')\n",
    "res = res.sort_values('date')\n",
    "res[\"date\"] = res[\"date\"].dt.strftime('%Y-%m-%d')\n",
    "print(res)"
   ]
  },
  {
   "cell_type": "code",
   "execution_count": 26,
   "metadata": {},
   "outputs": [
    {
     "data": {
      "text/plain": [
       "Index(['Unnamed: 0_x', 'date', 'Mkt-RF', 'SMB', 'HML', 'RMW', 'CMA', 'RF',\n",
       "       'DGS10', 'RIFSPPFAAD90NB', 'DGS1', 'CBETHUSD', 'DBAA', 'USRECDP',\n",
       "       'USRECD', 'DCPN3M', 'DCPF1M', 'DAAA', 'T10Y3M', 'BAMLH0A0HYM2',\n",
       "       'T10YIE', 'DHHNGSP', 'AMERIBOR', 'USRECDM', 'CBBTCUSD', 'DEXUSUK',\n",
       "       'DCOILWTICO', 'VIXCLS', 'DEXJPUS', 'DEXUSEU', 'T5YIE', 'OBMMIJUMBO30YF',\n",
       "       'NIKKEI225', 'BAMLH0A0HYM2EY', 'DCOILBRENTEU', 'Unnamed: 0_y',\n",
       "       'ads_index', 'Unnamed: 0_x', 'open', 'high', 'low', 'close', 'volume',\n",
       "       'dividends', 'stock_splits', 'Unnamed: 0_y', 'SP500'],\n",
       "      dtype='object')"
      ]
     },
     "execution_count": 26,
     "metadata": {},
     "output_type": "execute_result"
    }
   ],
   "source": [
    "res.columns"
   ]
  },
  {
   "cell_type": "code",
   "execution_count": 27,
   "metadata": {},
   "outputs": [],
   "source": [
    "# drop columns with name contains \"Unnamed\"\n",
    "res = res.loc[:, ~res.columns.str.contains('^Unnamed')]"
   ]
  },
  {
   "cell_type": "code",
   "execution_count": 28,
   "metadata": {},
   "outputs": [
    {
     "data": {
      "text/html": [
       "<div>\n",
       "<style scoped>\n",
       "    .dataframe tbody tr th:only-of-type {\n",
       "        vertical-align: middle;\n",
       "    }\n",
       "\n",
       "    .dataframe tbody tr th {\n",
       "        vertical-align: top;\n",
       "    }\n",
       "\n",
       "    .dataframe thead th {\n",
       "        text-align: right;\n",
       "    }\n",
       "</style>\n",
       "<table border=\"1\" class=\"dataframe\">\n",
       "  <thead>\n",
       "    <tr style=\"text-align: right;\">\n",
       "      <th></th>\n",
       "      <th>date</th>\n",
       "      <th>Mkt-RF</th>\n",
       "      <th>SMB</th>\n",
       "      <th>HML</th>\n",
       "      <th>RMW</th>\n",
       "      <th>CMA</th>\n",
       "      <th>RF</th>\n",
       "      <th>DGS10</th>\n",
       "      <th>RIFSPPFAAD90NB</th>\n",
       "      <th>DGS1</th>\n",
       "      <th>...</th>\n",
       "      <th>DCOILBRENTEU</th>\n",
       "      <th>ads_index</th>\n",
       "      <th>open</th>\n",
       "      <th>high</th>\n",
       "      <th>low</th>\n",
       "      <th>close</th>\n",
       "      <th>volume</th>\n",
       "      <th>dividends</th>\n",
       "      <th>stock_splits</th>\n",
       "      <th>SP500</th>\n",
       "    </tr>\n",
       "  </thead>\n",
       "  <tbody>\n",
       "    <tr>\n",
       "      <th>15397</th>\n",
       "      <td>1854-12-01</td>\n",
       "      <td>NaN</td>\n",
       "      <td>NaN</td>\n",
       "      <td>NaN</td>\n",
       "      <td>NaN</td>\n",
       "      <td>NaN</td>\n",
       "      <td>NaN</td>\n",
       "      <td>NaN</td>\n",
       "      <td>NaN</td>\n",
       "      <td>NaN</td>\n",
       "      <td>...</td>\n",
       "      <td>NaN</td>\n",
       "      <td>NaN</td>\n",
       "      <td>NaN</td>\n",
       "      <td>NaN</td>\n",
       "      <td>NaN</td>\n",
       "      <td>NaN</td>\n",
       "      <td>NaN</td>\n",
       "      <td>NaN</td>\n",
       "      <td>NaN</td>\n",
       "      <td>NaN</td>\n",
       "    </tr>\n",
       "    <tr>\n",
       "      <th>15398</th>\n",
       "      <td>1854-12-02</td>\n",
       "      <td>NaN</td>\n",
       "      <td>NaN</td>\n",
       "      <td>NaN</td>\n",
       "      <td>NaN</td>\n",
       "      <td>NaN</td>\n",
       "      <td>NaN</td>\n",
       "      <td>NaN</td>\n",
       "      <td>NaN</td>\n",
       "      <td>NaN</td>\n",
       "      <td>...</td>\n",
       "      <td>NaN</td>\n",
       "      <td>NaN</td>\n",
       "      <td>NaN</td>\n",
       "      <td>NaN</td>\n",
       "      <td>NaN</td>\n",
       "      <td>NaN</td>\n",
       "      <td>NaN</td>\n",
       "      <td>NaN</td>\n",
       "      <td>NaN</td>\n",
       "      <td>NaN</td>\n",
       "    </tr>\n",
       "  </tbody>\n",
       "</table>\n",
       "<p>2 rows × 43 columns</p>\n",
       "</div>"
      ],
      "text/plain": [
       "             date  Mkt-RF  SMB  HML  RMW  CMA  RF DGS10 RIFSPPFAAD90NB DGS1  \\\n",
       "15397  1854-12-01     NaN  NaN  NaN  NaN  NaN NaN   NaN            NaN  NaN   \n",
       "15398  1854-12-02     NaN  NaN  NaN  NaN  NaN NaN   NaN            NaN  NaN   \n",
       "\n",
       "       ... DCOILBRENTEU ads_index  open  high low close volume dividends  \\\n",
       "15397  ...          NaN       NaN   NaN   NaN NaN   NaN    NaN       NaN   \n",
       "15398  ...          NaN       NaN   NaN   NaN NaN   NaN    NaN       NaN   \n",
       "\n",
       "      stock_splits SP500  \n",
       "15397          NaN   NaN  \n",
       "15398          NaN   NaN  \n",
       "\n",
       "[2 rows x 43 columns]"
      ]
     },
     "execution_count": 28,
     "metadata": {},
     "output_type": "execute_result"
    }
   ],
   "source": [
    "res.head(2)"
   ]
  },
  {
   "cell_type": "code",
   "execution_count": 29,
   "metadata": {},
   "outputs": [
    {
     "data": {
      "text/plain": [
       "Index(['date', 'Mkt-RF', 'SMB', 'HML', 'RMW', 'CMA', 'RF', 'DGS10',\n",
       "       'RIFSPPFAAD90NB', 'DGS1', 'CBETHUSD', 'DBAA', 'USRECDP', 'USRECD',\n",
       "       'DCPN3M', 'DCPF1M', 'DAAA', 'T10Y3M', 'BAMLH0A0HYM2', 'T10YIE',\n",
       "       'DHHNGSP', 'AMERIBOR', 'USRECDM', 'CBBTCUSD', 'DEXUSUK', 'DCOILWTICO',\n",
       "       'VIXCLS', 'DEXJPUS', 'DEXUSEU', 'T5YIE', 'OBMMIJUMBO30YF', 'NIKKEI225',\n",
       "       'BAMLH0A0HYM2EY', 'DCOILBRENTEU', 'ads_index', 'open', 'high', 'low',\n",
       "       'close', 'volume', 'dividends', 'stock_splits', 'SP500'],\n",
       "      dtype='object')"
      ]
     },
     "execution_count": 29,
     "metadata": {},
     "output_type": "execute_result"
    }
   ],
   "source": [
    "res.columns"
   ]
  },
  {
   "cell_type": "code",
   "execution_count": 30,
   "metadata": {},
   "outputs": [],
   "source": [
    "#save to csv\n",
    "res.to_csv('data/final_dataset.csv', index=False)"
   ]
  },
  {
   "cell_type": "code",
   "execution_count": null,
   "metadata": {},
   "outputs": [],
   "source": []
  }
 ],
 "metadata": {
  "kernelspec": {
   "display_name": "base",
   "language": "python",
   "name": "python3"
  },
  "language_info": {
   "codemirror_mode": {
    "name": "ipython",
    "version": 3
   },
   "file_extension": ".py",
   "mimetype": "text/x-python",
   "name": "python",
   "nbconvert_exporter": "python",
   "pygments_lexer": "ipython3",
   "version": "3.9.15"
  }
 },
 "nbformat": 4,
 "nbformat_minor": 2
}
